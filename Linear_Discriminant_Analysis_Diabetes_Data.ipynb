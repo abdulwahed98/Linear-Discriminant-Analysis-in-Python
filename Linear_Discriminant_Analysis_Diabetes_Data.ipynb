{
  "cells": [
    {
      "cell_type": "markdown",
      "metadata": {
        "_cell_guid": "b1076dfc-b9ad-4769-8c92-a6c4dae69d19",
        "_uuid": "8f2839f25d086af736a60e9eeb907d3b93b6e0e5",
        "papermill": {
          "duration": 0.014205,
          "end_time": "2020-11-20T10:04:28.128069",
          "exception": false,
          "start_time": "2020-11-20T10:04:28.113864",
          "status": "completed"
        },
        "tags": [],
        "id": "Cvsk42pAGxwR"
      },
      "source": [
        "# Linear Discriminant Analysis on Diabetes Data"
      ]
    },
    {
      "cell_type": "markdown",
      "source": [
        "## Mohammad Abdul Wahed"
      ],
      "metadata": {
        "id": "Hm-qUbQgG-5g"
      }
    },
    {
      "cell_type": "markdown",
      "source": [
        "## Contents\n",
        "\n",
        "\n",
        "*   Objective\n",
        "*   Description of Diabetes Dataset\n",
        "*   Importing Libraries\n",
        "*   Loading Data\n",
        "*   Replacing '0' values with NaN in Glucose,\tBloodPressure,\tSkinThickness,\tInsulin and\tBMI\tcolums\n",
        "*   Counting the number of null values\n",
        "*   Imputing missing values using Multiple Imputation by Chained Equations(MICE)\n",
        "*   Splitting the data into train and test set using Twinning technique\n",
        "*   Fitting a model using Linear Discriminant Analysis\n",
        "*   Using the model to predict diabetes using test dataset\n",
        "*   Model evaluation and accuracy\n",
        "\n",
        "\n",
        "\n",
        "\n",
        "\n",
        "\n",
        "\n",
        "\n",
        "\n"
      ],
      "metadata": {
        "id": "bKkUYuCSKq-u"
      }
    },
    {
      "cell_type": "markdown",
      "source": [
        "## Objective"
      ],
      "metadata": {
        "id": "STqTRhi7IvaQ"
      }
    },
    {
      "cell_type": "markdown",
      "source": [
        " The objective is to develop a model that predicts based on diagnostic measurements whether a patient has diabetes."
      ],
      "metadata": {
        "id": "sPCi3MHrI3Ov"
      }
    },
    {
      "cell_type": "markdown",
      "source": [
        "## Description of Diabetes Dataset"
      ],
      "metadata": {
        "id": "b2tcz-yDra0q"
      }
    },
    {
      "cell_type": "markdown",
      "source": [
        "This dataset is originally from the National Institute of Diabetes and Digestive and Kidney Diseases."
      ],
      "metadata": {
        "id": "C4VJZN-9r3D6"
      }
    },
    {
      "cell_type": "markdown",
      "source": [
        "\n",
        "Several constraints were placed on the selection of these instances from a larger database. In particular, all patients here are females at least 21 years old of Pima Indian heritage."
      ],
      "metadata": {
        "id": "IUEK_89GsMhh"
      }
    },
    {
      "cell_type": "markdown",
      "source": [
        "\n",
        "\n",
        "*   Pregnancies: Number of times pregnant\n",
        "*   Glucose: Plasma glucose concentration a 2 hours in an oral glucose tolerance test\n",
        "*   BloodPressure: Diastolic blood pressure (mm Hg)\n",
        "*   SkinThickness: Triceps skin fold thickness (mm)\n",
        "*   Insulin: 2-Hour serum insulin (mu U/ml)\n",
        "*   BMI: Body mass index (weight in kg/(height in m)^2)\n",
        "*   DiabetesPedigreeFunction: Diabetes pedigree function\n",
        "*   Age: Age (years)\n",
        "*   Outcome: Class variable (0 or 1)\n",
        "\n",
        "\n"
      ],
      "metadata": {
        "id": "WTysFXUnsU5a"
      }
    },
    {
      "cell_type": "markdown",
      "metadata": {
        "_cell_guid": "79c7e3d0-c299-4dcb-8224-4455121ee9b0",
        "_uuid": "d629ff2d2480ee46fbb7e2d37f6b5fab8052498a",
        "collapsed": true,
        "papermill": {
          "duration": 0.013338,
          "end_time": "2020-11-20T10:04:28.157062",
          "exception": false,
          "start_time": "2020-11-20T10:04:28.143724",
          "status": "completed"
        },
        "tags": [],
        "id": "hO9e1qxtGxwT"
      },
      "source": [
        "## Importing Libraries"
      ]
    },
    {
      "cell_type": "code",
      "execution_count": 30,
      "metadata": {
        "execution": {
          "iopub.execute_input": "2020-11-20T10:04:28.188873Z",
          "iopub.status.busy": "2020-11-20T10:04:28.188177Z",
          "iopub.status.idle": "2020-11-20T10:04:28.190742Z",
          "shell.execute_reply": "2020-11-20T10:04:28.190077Z"
        },
        "papermill": {
          "duration": 0.020199,
          "end_time": "2020-11-20T10:04:28.190848",
          "exception": false,
          "start_time": "2020-11-20T10:04:28.170649",
          "status": "completed"
        },
        "tags": [],
        "id": "Og1qcsOzGxwT"
      },
      "outputs": [],
      "source": [
        "import pandas as pd\n",
        "import numpy as np\n",
        "from sklearn.model_selection import train_test_split\n",
        "from sklearn.model_selection import RepeatedStratifiedKFold\n",
        "from sklearn.model_selection import cross_val_score\n",
        "from sklearn.discriminant_analysis import LinearDiscriminantAnalysis \n",
        "from sklearn.metrics import classification_report\n",
        "from sklearn.metrics import confusion_matrix\n",
        "from sklearn.metrics import f1_score"
      ]
    },
    {
      "cell_type": "markdown",
      "metadata": {
        "papermill": {
          "duration": 0.00915,
          "end_time": "2020-11-20T10:04:28.209653",
          "exception": false,
          "start_time": "2020-11-20T10:04:28.200503",
          "status": "completed"
        },
        "tags": [],
        "id": "HkhZVJ_mGxwU"
      },
      "source": [
        "## Loading Data"
      ]
    },
    {
      "cell_type": "code",
      "execution_count": 2,
      "metadata": {
        "execution": {
          "iopub.execute_input": "2020-11-20T10:04:28.241011Z",
          "iopub.status.busy": "2020-11-20T10:04:28.240360Z",
          "iopub.status.idle": "2020-11-20T10:04:28.259176Z",
          "shell.execute_reply": "2020-11-20T10:04:28.258576Z"
        },
        "papermill": {
          "duration": 0.040288,
          "end_time": "2020-11-20T10:04:28.259278",
          "exception": false,
          "start_time": "2020-11-20T10:04:28.218990",
          "status": "completed"
        },
        "tags": [],
        "id": "k9E83Dg5GxwU"
      },
      "outputs": [],
      "source": [
        "data = pd.read_csv(\"diabetes.csv\")"
      ]
    },
    {
      "cell_type": "code",
      "execution_count": 3,
      "metadata": {
        "execution": {
          "iopub.execute_input": "2020-11-20T10:04:28.294787Z",
          "iopub.status.busy": "2020-11-20T10:04:28.286062Z",
          "iopub.status.idle": "2020-11-20T10:04:28.308817Z",
          "shell.execute_reply": "2020-11-20T10:04:28.308178Z"
        },
        "papermill": {
          "duration": 0.040263,
          "end_time": "2020-11-20T10:04:28.308921",
          "exception": false,
          "start_time": "2020-11-20T10:04:28.268658",
          "status": "completed"
        },
        "tags": [],
        "colab": {
          "base_uri": "https://localhost:8080/",
          "height": 206
        },
        "id": "GkI85PBqGxwU",
        "outputId": "8153034c-3122-498e-a6b4-ccec294b22fc"
      },
      "outputs": [
        {
          "output_type": "execute_result",
          "data": {
            "text/plain": [
              "   Pregnancies  Glucose  BloodPressure  SkinThickness  Insulin   BMI  \\\n",
              "0            6      148             72             35        0  33.6   \n",
              "1            1       85             66             29        0  26.6   \n",
              "2            8      183             64              0        0  23.3   \n",
              "3            1       89             66             23       94  28.1   \n",
              "4            0      137             40             35      168  43.1   \n",
              "\n",
              "   DiabetesPedigreeFunction  Age  Outcome  \n",
              "0                     0.627   50        1  \n",
              "1                     0.351   31        0  \n",
              "2                     0.672   32        1  \n",
              "3                     0.167   21        0  \n",
              "4                     2.288   33        1  "
            ],
            "text/html": [
              "\n",
              "  <div id=\"df-16e91885-a285-4005-91b4-90b86b50696d\">\n",
              "    <div class=\"colab-df-container\">\n",
              "      <div>\n",
              "<style scoped>\n",
              "    .dataframe tbody tr th:only-of-type {\n",
              "        vertical-align: middle;\n",
              "    }\n",
              "\n",
              "    .dataframe tbody tr th {\n",
              "        vertical-align: top;\n",
              "    }\n",
              "\n",
              "    .dataframe thead th {\n",
              "        text-align: right;\n",
              "    }\n",
              "</style>\n",
              "<table border=\"1\" class=\"dataframe\">\n",
              "  <thead>\n",
              "    <tr style=\"text-align: right;\">\n",
              "      <th></th>\n",
              "      <th>Pregnancies</th>\n",
              "      <th>Glucose</th>\n",
              "      <th>BloodPressure</th>\n",
              "      <th>SkinThickness</th>\n",
              "      <th>Insulin</th>\n",
              "      <th>BMI</th>\n",
              "      <th>DiabetesPedigreeFunction</th>\n",
              "      <th>Age</th>\n",
              "      <th>Outcome</th>\n",
              "    </tr>\n",
              "  </thead>\n",
              "  <tbody>\n",
              "    <tr>\n",
              "      <th>0</th>\n",
              "      <td>6</td>\n",
              "      <td>148</td>\n",
              "      <td>72</td>\n",
              "      <td>35</td>\n",
              "      <td>0</td>\n",
              "      <td>33.6</td>\n",
              "      <td>0.627</td>\n",
              "      <td>50</td>\n",
              "      <td>1</td>\n",
              "    </tr>\n",
              "    <tr>\n",
              "      <th>1</th>\n",
              "      <td>1</td>\n",
              "      <td>85</td>\n",
              "      <td>66</td>\n",
              "      <td>29</td>\n",
              "      <td>0</td>\n",
              "      <td>26.6</td>\n",
              "      <td>0.351</td>\n",
              "      <td>31</td>\n",
              "      <td>0</td>\n",
              "    </tr>\n",
              "    <tr>\n",
              "      <th>2</th>\n",
              "      <td>8</td>\n",
              "      <td>183</td>\n",
              "      <td>64</td>\n",
              "      <td>0</td>\n",
              "      <td>0</td>\n",
              "      <td>23.3</td>\n",
              "      <td>0.672</td>\n",
              "      <td>32</td>\n",
              "      <td>1</td>\n",
              "    </tr>\n",
              "    <tr>\n",
              "      <th>3</th>\n",
              "      <td>1</td>\n",
              "      <td>89</td>\n",
              "      <td>66</td>\n",
              "      <td>23</td>\n",
              "      <td>94</td>\n",
              "      <td>28.1</td>\n",
              "      <td>0.167</td>\n",
              "      <td>21</td>\n",
              "      <td>0</td>\n",
              "    </tr>\n",
              "    <tr>\n",
              "      <th>4</th>\n",
              "      <td>0</td>\n",
              "      <td>137</td>\n",
              "      <td>40</td>\n",
              "      <td>35</td>\n",
              "      <td>168</td>\n",
              "      <td>43.1</td>\n",
              "      <td>2.288</td>\n",
              "      <td>33</td>\n",
              "      <td>1</td>\n",
              "    </tr>\n",
              "  </tbody>\n",
              "</table>\n",
              "</div>\n",
              "      <button class=\"colab-df-convert\" onclick=\"convertToInteractive('df-16e91885-a285-4005-91b4-90b86b50696d')\"\n",
              "              title=\"Convert this dataframe to an interactive table.\"\n",
              "              style=\"display:none;\">\n",
              "        \n",
              "  <svg xmlns=\"http://www.w3.org/2000/svg\" height=\"24px\"viewBox=\"0 0 24 24\"\n",
              "       width=\"24px\">\n",
              "    <path d=\"M0 0h24v24H0V0z\" fill=\"none\"/>\n",
              "    <path d=\"M18.56 5.44l.94 2.06.94-2.06 2.06-.94-2.06-.94-.94-2.06-.94 2.06-2.06.94zm-11 1L8.5 8.5l.94-2.06 2.06-.94-2.06-.94L8.5 2.5l-.94 2.06-2.06.94zm10 10l.94 2.06.94-2.06 2.06-.94-2.06-.94-.94-2.06-.94 2.06-2.06.94z\"/><path d=\"M17.41 7.96l-1.37-1.37c-.4-.4-.92-.59-1.43-.59-.52 0-1.04.2-1.43.59L10.3 9.45l-7.72 7.72c-.78.78-.78 2.05 0 2.83L4 21.41c.39.39.9.59 1.41.59.51 0 1.02-.2 1.41-.59l7.78-7.78 2.81-2.81c.8-.78.8-2.07 0-2.86zM5.41 20L4 18.59l7.72-7.72 1.47 1.35L5.41 20z\"/>\n",
              "  </svg>\n",
              "      </button>\n",
              "      \n",
              "  <style>\n",
              "    .colab-df-container {\n",
              "      display:flex;\n",
              "      flex-wrap:wrap;\n",
              "      gap: 12px;\n",
              "    }\n",
              "\n",
              "    .colab-df-convert {\n",
              "      background-color: #E8F0FE;\n",
              "      border: none;\n",
              "      border-radius: 50%;\n",
              "      cursor: pointer;\n",
              "      display: none;\n",
              "      fill: #1967D2;\n",
              "      height: 32px;\n",
              "      padding: 0 0 0 0;\n",
              "      width: 32px;\n",
              "    }\n",
              "\n",
              "    .colab-df-convert:hover {\n",
              "      background-color: #E2EBFA;\n",
              "      box-shadow: 0px 1px 2px rgba(60, 64, 67, 0.3), 0px 1px 3px 1px rgba(60, 64, 67, 0.15);\n",
              "      fill: #174EA6;\n",
              "    }\n",
              "\n",
              "    [theme=dark] .colab-df-convert {\n",
              "      background-color: #3B4455;\n",
              "      fill: #D2E3FC;\n",
              "    }\n",
              "\n",
              "    [theme=dark] .colab-df-convert:hover {\n",
              "      background-color: #434B5C;\n",
              "      box-shadow: 0px 1px 3px 1px rgba(0, 0, 0, 0.15);\n",
              "      filter: drop-shadow(0px 1px 2px rgba(0, 0, 0, 0.3));\n",
              "      fill: #FFFFFF;\n",
              "    }\n",
              "  </style>\n",
              "\n",
              "      <script>\n",
              "        const buttonEl =\n",
              "          document.querySelector('#df-16e91885-a285-4005-91b4-90b86b50696d button.colab-df-convert');\n",
              "        buttonEl.style.display =\n",
              "          google.colab.kernel.accessAllowed ? 'block' : 'none';\n",
              "\n",
              "        async function convertToInteractive(key) {\n",
              "          const element = document.querySelector('#df-16e91885-a285-4005-91b4-90b86b50696d');\n",
              "          const dataTable =\n",
              "            await google.colab.kernel.invokeFunction('convertToInteractive',\n",
              "                                                     [key], {});\n",
              "          if (!dataTable) return;\n",
              "\n",
              "          const docLinkHtml = 'Like what you see? Visit the ' +\n",
              "            '<a target=\"_blank\" href=https://colab.research.google.com/notebooks/data_table.ipynb>data table notebook</a>'\n",
              "            + ' to learn more about interactive tables.';\n",
              "          element.innerHTML = '';\n",
              "          dataTable['output_type'] = 'display_data';\n",
              "          await google.colab.output.renderOutput(dataTable, element);\n",
              "          const docLink = document.createElement('div');\n",
              "          docLink.innerHTML = docLinkHtml;\n",
              "          element.appendChild(docLink);\n",
              "        }\n",
              "      </script>\n",
              "    </div>\n",
              "  </div>\n",
              "  "
            ]
          },
          "metadata": {},
          "execution_count": 3
        }
      ],
      "source": [
        "data.head()"
      ]
    },
    {
      "cell_type": "code",
      "source": [
        "data.shape"
      ],
      "metadata": {
        "colab": {
          "base_uri": "https://localhost:8080/"
        },
        "id": "SVBGhyCQHn5n",
        "outputId": "77fdb6d3-a895-499f-947b-3164e6c76afd"
      },
      "execution_count": 4,
      "outputs": [
        {
          "output_type": "execute_result",
          "data": {
            "text/plain": [
              "(768, 9)"
            ]
          },
          "metadata": {},
          "execution_count": 4
        }
      ]
    },
    {
      "cell_type": "markdown",
      "source": [
        "There are 768 rows and 9 columns"
      ],
      "metadata": {
        "id": "qkm-1jV5HxKX"
      }
    },
    {
      "cell_type": "code",
      "source": [
        "data.describe().T"
      ],
      "metadata": {
        "colab": {
          "base_uri": "https://localhost:8080/",
          "height": 332
        },
        "id": "rPDCJXD0KBYr",
        "outputId": "96bd9869-e7a9-492a-d87c-8f61511f2356"
      },
      "execution_count": 5,
      "outputs": [
        {
          "output_type": "execute_result",
          "data": {
            "text/plain": [
              "                          count        mean         std     min       25%  \\\n",
              "Pregnancies               768.0    3.845052    3.369578   0.000   1.00000   \n",
              "Glucose                   768.0  120.894531   31.972618   0.000  99.00000   \n",
              "BloodPressure             768.0   69.105469   19.355807   0.000  62.00000   \n",
              "SkinThickness             768.0   20.536458   15.952218   0.000   0.00000   \n",
              "Insulin                   768.0   79.799479  115.244002   0.000   0.00000   \n",
              "BMI                       768.0   31.992578    7.884160   0.000  27.30000   \n",
              "DiabetesPedigreeFunction  768.0    0.471876    0.331329   0.078   0.24375   \n",
              "Age                       768.0   33.240885   11.760232  21.000  24.00000   \n",
              "Outcome                   768.0    0.348958    0.476951   0.000   0.00000   \n",
              "\n",
              "                               50%        75%     max  \n",
              "Pregnancies                 3.0000    6.00000   17.00  \n",
              "Glucose                   117.0000  140.25000  199.00  \n",
              "BloodPressure              72.0000   80.00000  122.00  \n",
              "SkinThickness              23.0000   32.00000   99.00  \n",
              "Insulin                    30.5000  127.25000  846.00  \n",
              "BMI                        32.0000   36.60000   67.10  \n",
              "DiabetesPedigreeFunction    0.3725    0.62625    2.42  \n",
              "Age                        29.0000   41.00000   81.00  \n",
              "Outcome                     0.0000    1.00000    1.00  "
            ],
            "text/html": [
              "\n",
              "  <div id=\"df-be87c65d-d0e6-4a3b-ba3e-0de23a0e5a22\">\n",
              "    <div class=\"colab-df-container\">\n",
              "      <div>\n",
              "<style scoped>\n",
              "    .dataframe tbody tr th:only-of-type {\n",
              "        vertical-align: middle;\n",
              "    }\n",
              "\n",
              "    .dataframe tbody tr th {\n",
              "        vertical-align: top;\n",
              "    }\n",
              "\n",
              "    .dataframe thead th {\n",
              "        text-align: right;\n",
              "    }\n",
              "</style>\n",
              "<table border=\"1\" class=\"dataframe\">\n",
              "  <thead>\n",
              "    <tr style=\"text-align: right;\">\n",
              "      <th></th>\n",
              "      <th>count</th>\n",
              "      <th>mean</th>\n",
              "      <th>std</th>\n",
              "      <th>min</th>\n",
              "      <th>25%</th>\n",
              "      <th>50%</th>\n",
              "      <th>75%</th>\n",
              "      <th>max</th>\n",
              "    </tr>\n",
              "  </thead>\n",
              "  <tbody>\n",
              "    <tr>\n",
              "      <th>Pregnancies</th>\n",
              "      <td>768.0</td>\n",
              "      <td>3.845052</td>\n",
              "      <td>3.369578</td>\n",
              "      <td>0.000</td>\n",
              "      <td>1.00000</td>\n",
              "      <td>3.0000</td>\n",
              "      <td>6.00000</td>\n",
              "      <td>17.00</td>\n",
              "    </tr>\n",
              "    <tr>\n",
              "      <th>Glucose</th>\n",
              "      <td>768.0</td>\n",
              "      <td>120.894531</td>\n",
              "      <td>31.972618</td>\n",
              "      <td>0.000</td>\n",
              "      <td>99.00000</td>\n",
              "      <td>117.0000</td>\n",
              "      <td>140.25000</td>\n",
              "      <td>199.00</td>\n",
              "    </tr>\n",
              "    <tr>\n",
              "      <th>BloodPressure</th>\n",
              "      <td>768.0</td>\n",
              "      <td>69.105469</td>\n",
              "      <td>19.355807</td>\n",
              "      <td>0.000</td>\n",
              "      <td>62.00000</td>\n",
              "      <td>72.0000</td>\n",
              "      <td>80.00000</td>\n",
              "      <td>122.00</td>\n",
              "    </tr>\n",
              "    <tr>\n",
              "      <th>SkinThickness</th>\n",
              "      <td>768.0</td>\n",
              "      <td>20.536458</td>\n",
              "      <td>15.952218</td>\n",
              "      <td>0.000</td>\n",
              "      <td>0.00000</td>\n",
              "      <td>23.0000</td>\n",
              "      <td>32.00000</td>\n",
              "      <td>99.00</td>\n",
              "    </tr>\n",
              "    <tr>\n",
              "      <th>Insulin</th>\n",
              "      <td>768.0</td>\n",
              "      <td>79.799479</td>\n",
              "      <td>115.244002</td>\n",
              "      <td>0.000</td>\n",
              "      <td>0.00000</td>\n",
              "      <td>30.5000</td>\n",
              "      <td>127.25000</td>\n",
              "      <td>846.00</td>\n",
              "    </tr>\n",
              "    <tr>\n",
              "      <th>BMI</th>\n",
              "      <td>768.0</td>\n",
              "      <td>31.992578</td>\n",
              "      <td>7.884160</td>\n",
              "      <td>0.000</td>\n",
              "      <td>27.30000</td>\n",
              "      <td>32.0000</td>\n",
              "      <td>36.60000</td>\n",
              "      <td>67.10</td>\n",
              "    </tr>\n",
              "    <tr>\n",
              "      <th>DiabetesPedigreeFunction</th>\n",
              "      <td>768.0</td>\n",
              "      <td>0.471876</td>\n",
              "      <td>0.331329</td>\n",
              "      <td>0.078</td>\n",
              "      <td>0.24375</td>\n",
              "      <td>0.3725</td>\n",
              "      <td>0.62625</td>\n",
              "      <td>2.42</td>\n",
              "    </tr>\n",
              "    <tr>\n",
              "      <th>Age</th>\n",
              "      <td>768.0</td>\n",
              "      <td>33.240885</td>\n",
              "      <td>11.760232</td>\n",
              "      <td>21.000</td>\n",
              "      <td>24.00000</td>\n",
              "      <td>29.0000</td>\n",
              "      <td>41.00000</td>\n",
              "      <td>81.00</td>\n",
              "    </tr>\n",
              "    <tr>\n",
              "      <th>Outcome</th>\n",
              "      <td>768.0</td>\n",
              "      <td>0.348958</td>\n",
              "      <td>0.476951</td>\n",
              "      <td>0.000</td>\n",
              "      <td>0.00000</td>\n",
              "      <td>0.0000</td>\n",
              "      <td>1.00000</td>\n",
              "      <td>1.00</td>\n",
              "    </tr>\n",
              "  </tbody>\n",
              "</table>\n",
              "</div>\n",
              "      <button class=\"colab-df-convert\" onclick=\"convertToInteractive('df-be87c65d-d0e6-4a3b-ba3e-0de23a0e5a22')\"\n",
              "              title=\"Convert this dataframe to an interactive table.\"\n",
              "              style=\"display:none;\">\n",
              "        \n",
              "  <svg xmlns=\"http://www.w3.org/2000/svg\" height=\"24px\"viewBox=\"0 0 24 24\"\n",
              "       width=\"24px\">\n",
              "    <path d=\"M0 0h24v24H0V0z\" fill=\"none\"/>\n",
              "    <path d=\"M18.56 5.44l.94 2.06.94-2.06 2.06-.94-2.06-.94-.94-2.06-.94 2.06-2.06.94zm-11 1L8.5 8.5l.94-2.06 2.06-.94-2.06-.94L8.5 2.5l-.94 2.06-2.06.94zm10 10l.94 2.06.94-2.06 2.06-.94-2.06-.94-.94-2.06-.94 2.06-2.06.94z\"/><path d=\"M17.41 7.96l-1.37-1.37c-.4-.4-.92-.59-1.43-.59-.52 0-1.04.2-1.43.59L10.3 9.45l-7.72 7.72c-.78.78-.78 2.05 0 2.83L4 21.41c.39.39.9.59 1.41.59.51 0 1.02-.2 1.41-.59l7.78-7.78 2.81-2.81c.8-.78.8-2.07 0-2.86zM5.41 20L4 18.59l7.72-7.72 1.47 1.35L5.41 20z\"/>\n",
              "  </svg>\n",
              "      </button>\n",
              "      \n",
              "  <style>\n",
              "    .colab-df-container {\n",
              "      display:flex;\n",
              "      flex-wrap:wrap;\n",
              "      gap: 12px;\n",
              "    }\n",
              "\n",
              "    .colab-df-convert {\n",
              "      background-color: #E8F0FE;\n",
              "      border: none;\n",
              "      border-radius: 50%;\n",
              "      cursor: pointer;\n",
              "      display: none;\n",
              "      fill: #1967D2;\n",
              "      height: 32px;\n",
              "      padding: 0 0 0 0;\n",
              "      width: 32px;\n",
              "    }\n",
              "\n",
              "    .colab-df-convert:hover {\n",
              "      background-color: #E2EBFA;\n",
              "      box-shadow: 0px 1px 2px rgba(60, 64, 67, 0.3), 0px 1px 3px 1px rgba(60, 64, 67, 0.15);\n",
              "      fill: #174EA6;\n",
              "    }\n",
              "\n",
              "    [theme=dark] .colab-df-convert {\n",
              "      background-color: #3B4455;\n",
              "      fill: #D2E3FC;\n",
              "    }\n",
              "\n",
              "    [theme=dark] .colab-df-convert:hover {\n",
              "      background-color: #434B5C;\n",
              "      box-shadow: 0px 1px 3px 1px rgba(0, 0, 0, 0.15);\n",
              "      filter: drop-shadow(0px 1px 2px rgba(0, 0, 0, 0.3));\n",
              "      fill: #FFFFFF;\n",
              "    }\n",
              "  </style>\n",
              "\n",
              "      <script>\n",
              "        const buttonEl =\n",
              "          document.querySelector('#df-be87c65d-d0e6-4a3b-ba3e-0de23a0e5a22 button.colab-df-convert');\n",
              "        buttonEl.style.display =\n",
              "          google.colab.kernel.accessAllowed ? 'block' : 'none';\n",
              "\n",
              "        async function convertToInteractive(key) {\n",
              "          const element = document.querySelector('#df-be87c65d-d0e6-4a3b-ba3e-0de23a0e5a22');\n",
              "          const dataTable =\n",
              "            await google.colab.kernel.invokeFunction('convertToInteractive',\n",
              "                                                     [key], {});\n",
              "          if (!dataTable) return;\n",
              "\n",
              "          const docLinkHtml = 'Like what you see? Visit the ' +\n",
              "            '<a target=\"_blank\" href=https://colab.research.google.com/notebooks/data_table.ipynb>data table notebook</a>'\n",
              "            + ' to learn more about interactive tables.';\n",
              "          element.innerHTML = '';\n",
              "          dataTable['output_type'] = 'display_data';\n",
              "          await google.colab.output.renderOutput(dataTable, element);\n",
              "          const docLink = document.createElement('div');\n",
              "          docLink.innerHTML = docLinkHtml;\n",
              "          element.appendChild(docLink);\n",
              "        }\n",
              "      </script>\n",
              "    </div>\n",
              "  </div>\n",
              "  "
            ]
          },
          "metadata": {},
          "execution_count": 5
        }
      ]
    },
    {
      "cell_type": "markdown",
      "source": [
        "As we see, the minimum value in Glucose, BloodPressure, SkinThickness, insulin, BMI is '0' indicating that they are actually null values. We replace the '0' values with NaN and impute NaN(missing values) using MICE"
      ],
      "metadata": {
        "id": "NUaPvjS7P1aE"
      }
    },
    {
      "cell_type": "markdown",
      "source": [
        "Also we see that the mean of outcome is 0.34 which means that the dataset is imbalanced(outcome '0' and outcome '1' are not in proportion). The F1 score metric becomes especially valuable when working on classification models in which our data set is imbalanced. We will implement it later in this notebook."
      ],
      "metadata": {
        "id": "exIvBsNj4q_A"
      }
    },
    {
      "cell_type": "markdown",
      "source": [
        "## Replacing '0' values with NaN"
      ],
      "metadata": {
        "id": "hvMtHlyLMBpg"
      }
    },
    {
      "cell_type": "code",
      "source": [
        "data[[\"Glucose\", \"BloodPressure\", \"SkinThickness\", \"Insulin\", \"BMI\"]] = data[[\"Glucose\", \"BloodPressure\", \"SkinThickness\", \"Insulin\", \"BMI\"]].replace(0, np.NaN)"
      ],
      "metadata": {
        "id": "iyclBF02MemS"
      },
      "execution_count": 6,
      "outputs": []
    },
    {
      "cell_type": "markdown",
      "source": [
        "## Counting the number of null values"
      ],
      "metadata": {
        "id": "q2Ela3-8M10R"
      }
    },
    {
      "cell_type": "code",
      "source": [
        "data.isnull().sum()"
      ],
      "metadata": {
        "colab": {
          "base_uri": "https://localhost:8080/"
        },
        "id": "aNPoxSPwuNQN",
        "outputId": "9c4c12b4-8677-483f-f11c-52947f303ad0"
      },
      "execution_count": 7,
      "outputs": [
        {
          "output_type": "execute_result",
          "data": {
            "text/plain": [
              "Pregnancies                   0\n",
              "Glucose                       5\n",
              "BloodPressure                35\n",
              "SkinThickness               227\n",
              "Insulin                     374\n",
              "BMI                          11\n",
              "DiabetesPedigreeFunction      0\n",
              "Age                           0\n",
              "Outcome                       0\n",
              "dtype: int64"
            ]
          },
          "metadata": {},
          "execution_count": 7
        }
      ]
    },
    {
      "cell_type": "markdown",
      "source": [
        "## Imputing missing values using Multiple Imputation by Chained Equations(MICE)"
      ],
      "metadata": {
        "id": "rBw_jui9vgNL"
      }
    },
    {
      "cell_type": "markdown",
      "source": [
        "Let's first install the `miceforest` package."
      ],
      "metadata": {
        "id": "lMeM_eNloJtG"
      }
    },
    {
      "cell_type": "code",
      "source": [
        "!pip install miceforest --no-cache-dir\n"
      ],
      "metadata": {
        "colab": {
          "base_uri": "https://localhost:8080/"
        },
        "id": "ngvFMbzTdnWp",
        "outputId": "77c17802-f15b-4aa8-cd87-3b750e15e3a3"
      },
      "execution_count": 8,
      "outputs": [
        {
          "output_type": "stream",
          "name": "stdout",
          "text": [
            "Looking in indexes: https://pypi.org/simple, https://us-python.pkg.dev/colab-wheels/public/simple/\n",
            "Collecting miceforest\n",
            "  Downloading miceforest-5.6.3-py3-none-any.whl (57 kB)\n",
            "\u001b[2K     \u001b[90m━━━━━━━━━━━━━━━━━━━━━━━━━━━━━━━━━━━━━━━━\u001b[0m \u001b[32m58.0/58.0 KB\u001b[0m \u001b[31m5.4 MB/s\u001b[0m eta \u001b[36m0:00:00\u001b[0m\n",
            "\u001b[?25hRequirement already satisfied: lightgbm>=3.3.1 in /usr/local/lib/python3.9/dist-packages (from miceforest) (3.3.5)\n",
            "Requirement already satisfied: numpy in /usr/local/lib/python3.9/dist-packages (from miceforest) (1.22.4)\n",
            "Collecting dill\n",
            "  Downloading dill-0.3.6-py3-none-any.whl (110 kB)\n",
            "\u001b[2K     \u001b[90m━━━━━━━━━━━━━━━━━━━━━━━━━━━━━━━━━━━━━━\u001b[0m \u001b[32m110.5/110.5 KB\u001b[0m \u001b[31m12.3 MB/s\u001b[0m eta \u001b[36m0:00:00\u001b[0m\n",
            "\u001b[?25hCollecting blosc\n",
            "  Downloading blosc-1.11.1-cp39-cp39-manylinux_2_17_x86_64.manylinux2014_x86_64.whl (2.5 MB)\n",
            "\u001b[2K     \u001b[90m━━━━━━━━━━━━━━━━━━━━━━━━━━━━━━━━━━━━━━━━\u001b[0m \u001b[32m2.5/2.5 MB\u001b[0m \u001b[31m63.5 MB/s\u001b[0m eta \u001b[36m0:00:00\u001b[0m\n",
            "\u001b[?25hRequirement already satisfied: scipy in /usr/local/lib/python3.9/dist-packages (from lightgbm>=3.3.1->miceforest) (1.10.1)\n",
            "Requirement already satisfied: scikit-learn!=0.22.0 in /usr/local/lib/python3.9/dist-packages (from lightgbm>=3.3.1->miceforest) (1.2.2)\n",
            "Requirement already satisfied: wheel in /usr/local/lib/python3.9/dist-packages (from lightgbm>=3.3.1->miceforest) (0.40.0)\n",
            "Requirement already satisfied: threadpoolctl>=2.0.0 in /usr/local/lib/python3.9/dist-packages (from scikit-learn!=0.22.0->lightgbm>=3.3.1->miceforest) (3.1.0)\n",
            "Requirement already satisfied: joblib>=1.1.1 in /usr/local/lib/python3.9/dist-packages (from scikit-learn!=0.22.0->lightgbm>=3.3.1->miceforest) (1.1.1)\n",
            "Installing collected packages: dill, blosc, miceforest\n",
            "Successfully installed blosc-1.11.1 dill-0.3.6 miceforest-5.6.3\n"
          ]
        }
      ]
    },
    {
      "cell_type": "markdown",
      "source": [
        "Installing latest version of `miceforest`"
      ],
      "metadata": {
        "id": "Tz-TyLNkfuXW"
      }
    },
    {
      "cell_type": "code",
      "source": [
        "!pip install git+https://github.com/AnotherSamWilson/miceforest.git"
      ],
      "metadata": {
        "colab": {
          "base_uri": "https://localhost:8080/"
        },
        "id": "sSX0pvMfecsx",
        "outputId": "03b11501-85b1-4090-99a8-50c0760c1ce9"
      },
      "execution_count": 9,
      "outputs": [
        {
          "output_type": "stream",
          "name": "stdout",
          "text": [
            "Looking in indexes: https://pypi.org/simple, https://us-python.pkg.dev/colab-wheels/public/simple/\n",
            "Collecting git+https://github.com/AnotherSamWilson/miceforest.git\n",
            "  Cloning https://github.com/AnotherSamWilson/miceforest.git to /tmp/pip-req-build-e1rfx4_h\n",
            "  Running command git clone --filter=blob:none --quiet https://github.com/AnotherSamWilson/miceforest.git /tmp/pip-req-build-e1rfx4_h\n",
            "  Resolved https://github.com/AnotherSamWilson/miceforest.git to commit d9359a89204e3b5f10cc02e7e621a22c213e5453\n",
            "  Preparing metadata (setup.py) ... \u001b[?25l\u001b[?25hdone\n",
            "Requirement already satisfied: lightgbm>=3.3.1 in /usr/local/lib/python3.9/dist-packages (from miceforest==5.6.3) (3.3.5)\n",
            "Requirement already satisfied: numpy in /usr/local/lib/python3.9/dist-packages (from miceforest==5.6.3) (1.22.4)\n",
            "Requirement already satisfied: blosc in /usr/local/lib/python3.9/dist-packages (from miceforest==5.6.3) (1.11.1)\n",
            "Requirement already satisfied: dill in /usr/local/lib/python3.9/dist-packages (from miceforest==5.6.3) (0.3.6)\n",
            "Requirement already satisfied: scikit-learn!=0.22.0 in /usr/local/lib/python3.9/dist-packages (from lightgbm>=3.3.1->miceforest==5.6.3) (1.2.2)\n",
            "Requirement already satisfied: wheel in /usr/local/lib/python3.9/dist-packages (from lightgbm>=3.3.1->miceforest==5.6.3) (0.40.0)\n",
            "Requirement already satisfied: scipy in /usr/local/lib/python3.9/dist-packages (from lightgbm>=3.3.1->miceforest==5.6.3) (1.10.1)\n",
            "Requirement already satisfied: joblib>=1.1.1 in /usr/local/lib/python3.9/dist-packages (from scikit-learn!=0.22.0->lightgbm>=3.3.1->miceforest==5.6.3) (1.1.1)\n",
            "Requirement already satisfied: threadpoolctl>=2.0.0 in /usr/local/lib/python3.9/dist-packages (from scikit-learn!=0.22.0->lightgbm>=3.3.1->miceforest==5.6.3) (3.1.0)\n"
          ]
        }
      ]
    },
    {
      "cell_type": "code",
      "source": [
        "import miceforest as mf"
      ],
      "metadata": {
        "id": "Lt-f0SWUelG7"
      },
      "execution_count": 10,
      "outputs": []
    },
    {
      "cell_type": "markdown",
      "source": [
        "We have the original dataset with missing values(NaN) in `data`. Let's try to impute the missing values in the data with `miceforest`."
      ],
      "metadata": {
        "id": "lGQ0yTX0e8XA"
      }
    },
    {
      "cell_type": "code",
      "source": [
        "# Create kernel. \n",
        "kds = mf.ImputationKernel(\n",
        "  data,\n",
        "  save_all_iterations=True,\n",
        "  random_state=100\n",
        ")\n",
        "\n",
        "# Run the MICE algorithm for 5 iterations\n",
        "kds.mice(5)\n",
        "\n",
        "# Return the completed dataset.\n",
        "data_imputed = kds.complete_data()"
      ],
      "metadata": {
        "id": "Ac-cv1MUfC-w"
      },
      "execution_count": 11,
      "outputs": []
    },
    {
      "cell_type": "code",
      "source": [
        "data_imputed.isnull().sum()"
      ],
      "metadata": {
        "colab": {
          "base_uri": "https://localhost:8080/"
        },
        "id": "M9a5uUxagqX5",
        "outputId": "830d43f0-3728-4ba7-84c2-feb5d65426dc"
      },
      "execution_count": 12,
      "outputs": [
        {
          "output_type": "execute_result",
          "data": {
            "text/plain": [
              "Pregnancies                 0\n",
              "Glucose                     0\n",
              "BloodPressure               0\n",
              "SkinThickness               0\n",
              "Insulin                     0\n",
              "BMI                         0\n",
              "DiabetesPedigreeFunction    0\n",
              "Age                         0\n",
              "Outcome                     0\n",
              "dtype: int64"
            ]
          },
          "metadata": {},
          "execution_count": 12
        }
      ]
    },
    {
      "cell_type": "markdown",
      "source": [
        "Thus, missing values are imputed"
      ],
      "metadata": {
        "id": "HiYvfimriaOh"
      }
    },
    {
      "cell_type": "markdown",
      "source": [
        "## Splitting the data into training and test set using Twinning technique\n",
        "Twinning technique partitions datasets into statistically similar disjoint sets, termed as twins."
      ],
      "metadata": {
        "id": "thxGSMH5paYe"
      }
    },
    {
      "cell_type": "markdown",
      "source": [
        "Let's install the twinning package"
      ],
      "metadata": {
        "id": "8E6kCKPkqCu6"
      }
    },
    {
      "cell_type": "code",
      "source": [
        "pip install git+https://github.com/avkl/twinning.git"
      ],
      "metadata": {
        "colab": {
          "base_uri": "https://localhost:8080/"
        },
        "id": "djcOxTiYpZe4",
        "outputId": "5f4f09c5-6763-4179-afbb-bdf7a60fe5eb"
      },
      "execution_count": 13,
      "outputs": [
        {
          "output_type": "stream",
          "name": "stdout",
          "text": [
            "Looking in indexes: https://pypi.org/simple, https://us-python.pkg.dev/colab-wheels/public/simple/\n",
            "Collecting git+https://github.com/avkl/twinning.git\n",
            "  Cloning https://github.com/avkl/twinning.git to /tmp/pip-req-build-kbz8sbe_\n",
            "  Running command git clone --filter=blob:none --quiet https://github.com/avkl/twinning.git /tmp/pip-req-build-kbz8sbe_\n",
            "  Resolved https://github.com/avkl/twinning.git to commit 8c6ffdd73531039733a52f0f8cf67efe4f38383f\n",
            "  Preparing metadata (setup.py) ... \u001b[?25l\u001b[?25hdone\n",
            "Processing //tmp/pip-req-build-kbz8sbe_/twinning_cpp\n",
            "  Installing build dependencies ... \u001b[?25l\u001b[?25hdone\n",
            "  Getting requirements to build wheel ... \u001b[?25l\u001b[?25hdone\n",
            "  Preparing metadata (pyproject.toml) ... \u001b[?25l\u001b[?25hdone\n",
            "Requirement already satisfied: numpy in /usr/local/lib/python3.9/dist-packages (from twinning==1.0) (1.22.4)\n",
            "Building wheels for collected packages: twinning, twinning_cpp\n",
            "  Building wheel for twinning (setup.py) ... \u001b[?25l\u001b[?25hdone\n",
            "  Created wheel for twinning: filename=twinning-1.0-py3-none-any.whl size=9453 sha256=980b831717b29b8f0de415b3df62c8ea4fb6fdd67d5deb9919d87b3112dffc09\n",
            "  Stored in directory: /tmp/pip-ephem-wheel-cache-_t0bi1vw/wheels/1e/87/87/793ffc2359a9a5466cbe18f82cdb921da86b2e50692d66d57f\n",
            "  Building wheel for twinning_cpp (pyproject.toml) ... \u001b[?25l\u001b[?25hdone\n",
            "  Created wheel for twinning_cpp: filename=twinning_cpp-1.0-cp39-cp39-linux_x86_64.whl size=67581 sha256=7aab4928581d62aaed49017e72c34b663fa7ebecb4f5ed1502a840f2e790efd2\n",
            "  Stored in directory: /tmp/pip-ephem-wheel-cache-_t0bi1vw/wheels/f1/dd/e2/e3366f559899faba40ef2e54679e2ef2bde6666de9a466dab5\n",
            "Successfully built twinning twinning_cpp\n",
            "Installing collected packages: twinning_cpp, twinning\n",
            "Successfully installed twinning-1.0 twinning_cpp-1.0\n"
          ]
        }
      ]
    },
    {
      "cell_type": "code",
      "source": [
        "from twinning import twin"
      ],
      "metadata": {
        "id": "UXIfgjBjqsQo"
      },
      "execution_count": 14,
      "outputs": []
    },
    {
      "cell_type": "markdown",
      "source": [
        "The following code generates an 80-20 partition of the imputed dataset `data_imputed`. twin() accepts a numpy ndarray as the dataset, and an integer parameter r representing the inverse of the partitioning ratio, i.e., for an 80-20 split, r = 1 / 0.2 = 5. The function returns indices of the smaller twin."
      ],
      "metadata": {
        "id": "IPZJVNHDqrqp"
      }
    },
    {
      "cell_type": "code",
      "source": [
        "twin_idx = twin(data_imputed.to_numpy(), r=5)"
      ],
      "metadata": {
        "id": "eJ0xgTzmt20z"
      },
      "execution_count": 15,
      "outputs": []
    },
    {
      "cell_type": "code",
      "source": [
        "twin_idx"
      ],
      "metadata": {
        "colab": {
          "base_uri": "https://localhost:8080/"
        },
        "id": "shagKsOOuxXo",
        "outputId": "4921a79b-98d0-4206-bfab-45c0a80340ab"
      },
      "execution_count": 16,
      "outputs": [
        {
          "output_type": "execute_result",
          "data": {
            "text/plain": [
              "array([365,  49, 733, 553, 482,   1, 196, 752, 694, 288, 156, 421, 446,\n",
              "       172, 431, 615, 765, 257, 158, 368, 601, 639, 407, 418,  55, 742,\n",
              "        96, 253,  74, 483, 556, 665, 201, 452, 726, 315, 524, 373, 572,\n",
              "       241, 570, 567, 583, 350, 652,  29, 160, 517, 669, 436,  44, 555,\n",
              "        63, 605, 324, 682, 490, 117,  62, 503, 439, 380, 538, 428, 178,\n",
              "       349, 337, 219, 712,  37, 386, 451, 326, 356, 419,  17,  25, 749,\n",
              "       114, 427, 189, 164,  31, 675, 545,  11, 663, 603, 152, 408,  53,\n",
              "       355, 298, 618, 330, 371, 534, 576, 393, 325, 340, 688, 169, 633,\n",
              "       364, 711,  42, 582, 123, 361, 670,  40, 738, 190, 232, 336, 699,\n",
              "       379, 536, 560, 480, 391, 484,  99,  38, 539, 270, 622, 153, 753,\n",
              "       227, 647, 569,   6, 197, 308, 130, 392, 519, 115, 212, 440, 691,\n",
              "       363, 674, 559,  86, 111, 294, 335,  18, 661, 177, 434],\n",
              "      dtype=uint64)"
            ]
          },
          "metadata": {},
          "execution_count": 16
        }
      ]
    },
    {
      "cell_type": "markdown",
      "source": [
        "Creating a dataframe by dropping indices in twin_idx to create bigger twin which will be used to train the model"
      ],
      "metadata": {
        "id": "2a1Ocb3C8llV"
      }
    },
    {
      "cell_type": "code",
      "source": [
        "data_imputed_train=data_imputed.drop(data_imputed.index[[300, 326, 356, 535,  17, 214, 754, 502, 175, 417, 761,  48, 276,\n",
        "        25, 298, 590, 314, 683, 164, 539,  16, 746, 732, 399, 427, 766,\n",
        "       269, 646, 110,  64, 161, 302, 463, 704, 496, 601, 752, 694,  60,\n",
        "        89, 307, 101, 686, 167, 224, 202, 137, 610, 142, 423, 624,  74,\n",
        "       457, 168, 411, 138, 470, 305,  59, 127, 467, 426,  87, 226, 591,\n",
        "       343, 628, 568, 641, 652, 251,  91, 135, 482, 450,  90, 650, 367,\n",
        "       639, 239,   1, 158, 720, 352, 462, 505, 281, 222,  98, 760, 644,\n",
        "       564, 354, 410, 345, 285, 295, 405,  18, 599, 530, 346, 279, 434,\n",
        "       477, 500, 728, 139, 178, 211, 267, 534, 449, 466, 242, 586,  11,\n",
        "       236, 749, 361,  30, 582, 194, 668, 286, 753, 412, 379, 536, 739,\n",
        "       303, 485,   6, 258, 227, 186, 115, 140, 129, 743, 245, 487, 123,\n",
        "       330, 659, 395, 370, 159, 558, 212, 672, 662, 532, 254]])"
      ],
      "metadata": {
        "id": "IWkfRG5z8yjx"
      },
      "execution_count": 17,
      "outputs": []
    },
    {
      "cell_type": "markdown",
      "source": [
        "Splitting the data into train and test set"
      ],
      "metadata": {
        "id": "3fYT_U7izQ03"
      }
    },
    {
      "cell_type": "code",
      "source": [
        "X_train = data_imputed_train.iloc[:, :-1].values\n",
        "Y_train = data_imputed_train.iloc[:, -1].values\n",
        "X_test = data_imputed.iloc[[300, 326, 356, 535,  17, 214, 754, 502, 175, 417, 761,  48, 276,\n",
        "        25, 298, 590, 314, 683, 164, 539,  16, 746, 732, 399, 427, 766,\n",
        "       269, 646, 110,  64, 161, 302, 463, 704, 496, 601, 752, 694,  60,\n",
        "        89, 307, 101, 686, 167, 224, 202, 137, 610, 142, 423, 624,  74,\n",
        "       457, 168, 411, 138, 470, 305,  59, 127, 467, 426,  87, 226, 591,\n",
        "       343, 628, 568, 641, 652, 251,  91, 135, 482, 450,  90, 650, 367,\n",
        "       639, 239,   1, 158, 720, 352, 462, 505, 281, 222,  98, 760, 644,\n",
        "       564, 354, 410, 345, 285, 295, 405,  18, 599, 530, 346, 279, 434,\n",
        "       477, 500, 728, 139, 178, 211, 267, 534, 449, 466, 242, 586,  11,\n",
        "       236, 749, 361,  30, 582, 194, 668, 286, 753, 412, 379, 536, 739,\n",
        "       303, 485,   6, 258, 227, 186, 115, 140, 129, 743, 245, 487, 123,\n",
        "       330, 659, 395, 370, 159, 558, 212, 672, 662, 532, 254], :-1].values\n",
        "Y_test = data_imputed.iloc[[300, 326, 356, 535,  17, 214, 754, 502, 175, 417, 761,  48, 276,\n",
        "        25, 298, 590, 314, 683, 164, 539,  16, 746, 732, 399, 427, 766,\n",
        "       269, 646, 110,  64, 161, 302, 463, 704, 496, 601, 752, 694,  60,\n",
        "        89, 307, 101, 686, 167, 224, 202, 137, 610, 142, 423, 624,  74,\n",
        "       457, 168, 411, 138, 470, 305,  59, 127, 467, 426,  87, 226, 591,\n",
        "       343, 628, 568, 641, 652, 251,  91, 135, 482, 450,  90, 650, 367,\n",
        "       639, 239,   1, 158, 720, 352, 462, 505, 281, 222,  98, 760, 644,\n",
        "       564, 354, 410, 345, 285, 295, 405,  18, 599, 530, 346, 279, 434,\n",
        "       477, 500, 728, 139, 178, 211, 267, 534, 449, 466, 242, 586,  11,\n",
        "       236, 749, 361,  30, 582, 194, 668, 286, 753, 412, 379, 536, 739,\n",
        "       303, 485,   6, 258, 227, 186, 115, 140, 129, 743, 245, 487, 123,\n",
        "       330, 659, 395, 370, 159, 558, 212, 672, 662, 532, 254], -1].values\n"
      ],
      "metadata": {
        "id": "i9X4ku9lv1Xq"
      },
      "execution_count": 18,
      "outputs": []
    },
    {
      "cell_type": "markdown",
      "source": [
        "## Fitting a model using Linear Discriminant Analysis"
      ],
      "metadata": {
        "id": "iHS0LnasiBhx"
      }
    },
    {
      "cell_type": "code",
      "source": [
        "#Fit the LDA model\n",
        "model = LinearDiscriminantAnalysis()\n",
        "model.fit(X_train, Y_train)\n",
        "model.score(X_train, Y_train)"
      ],
      "metadata": {
        "colab": {
          "base_uri": "https://localhost:8080/"
        },
        "id": "xgx3sthFEJWF",
        "outputId": "e81ba40c-be12-4a70-a94c-533b532da4c3"
      },
      "execution_count": 19,
      "outputs": [
        {
          "output_type": "execute_result",
          "data": {
            "text/plain": [
              "0.7833876221498371"
            ]
          },
          "metadata": {},
          "execution_count": 19
        }
      ]
    },
    {
      "cell_type": "markdown",
      "source": [
        "We can see that the model performed an accuracy of 78.33%."
      ],
      "metadata": {
        "id": "vv7muQA_FxQ0"
      }
    },
    {
      "cell_type": "markdown",
      "source": [
        "## Using the model to predict diabetes using test dataset"
      ],
      "metadata": {
        "id": "qV82FhlFNrtM"
      }
    },
    {
      "cell_type": "markdown",
      "source": [
        "We will now use this model to predict using .predict function"
      ],
      "metadata": {
        "id": "zeoPeIwrGTG1"
      }
    },
    {
      "cell_type": "code",
      "source": [
        "Y_pred = model.predict(X_test)"
      ],
      "metadata": {
        "id": "MBTfx07ZGAVa"
      },
      "execution_count": 20,
      "outputs": []
    },
    {
      "cell_type": "markdown",
      "source": [
        "## Model evaluation and accuracy"
      ],
      "metadata": {
        "id": "gNacmR4GGk_h"
      }
    },
    {
      "cell_type": "markdown",
      "source": [
        "Since our dataset is imbalanced, we use F1 score as our performance metric"
      ],
      "metadata": {
        "id": "UqRRBSW5_8Gx"
      }
    },
    {
      "cell_type": "markdown",
      "source": [
        "The F1 score can be interpreted as a harmonic mean of the precision and recall, where an F1 score reaches its best value at 1 and worst score at 0\n",
        "\n"
      ],
      "metadata": {
        "id": "DaDThkic_f3j"
      }
    },
    {
      "cell_type": "code",
      "source": [
        "confusion_matrix(Y_test, Y_pred)"
      ],
      "metadata": {
        "colab": {
          "base_uri": "https://localhost:8080/"
        },
        "id": "-sKxhZ9NAIt5",
        "outputId": "925741e5-293c-451b-e89e-0d0fc2d4ac4f"
      },
      "execution_count": 27,
      "outputs": [
        {
          "output_type": "execute_result",
          "data": {
            "text/plain": [
              "array([[88, 15],\n",
              "       [25, 26]])"
            ]
          },
          "metadata": {},
          "execution_count": 27
        }
      ]
    },
    {
      "cell_type": "code",
      "source": [
        "print(classification_report(Y_test, Y_pred))"
      ],
      "metadata": {
        "colab": {
          "base_uri": "https://localhost:8080/"
        },
        "id": "Iurtfb2EGvU8",
        "outputId": "d4030ea9-66b8-4d3f-afb0-4a143543a6fa"
      },
      "execution_count": 28,
      "outputs": [
        {
          "output_type": "stream",
          "name": "stdout",
          "text": [
            "              precision    recall  f1-score   support\n",
            "\n",
            "           0       0.78      0.85      0.81       103\n",
            "           1       0.63      0.51      0.57        51\n",
            "\n",
            "    accuracy                           0.74       154\n",
            "   macro avg       0.71      0.68      0.69       154\n",
            "weighted avg       0.73      0.74      0.73       154\n",
            "\n"
          ]
        }
      ]
    },
    {
      "cell_type": "markdown",
      "source": [
        "Computing the F1 score"
      ],
      "metadata": {
        "id": "C5sKHSKD8mRR"
      }
    },
    {
      "cell_type": "markdown",
      "source": [
        " We use  `average = 'weighted'`.This accounts for label imbalance"
      ],
      "metadata": {
        "id": "4wy-8SQUAyNH"
      }
    },
    {
      "cell_type": "code",
      "source": [
        " f1_score(Y_test, Y_pred, average='weighted')"
      ],
      "metadata": {
        "colab": {
          "base_uri": "https://localhost:8080/"
        },
        "id": "MrtfkuxC8mjY",
        "outputId": "f4bab5ca-2e49-48b2-e7ca-366abb4e1c95"
      },
      "execution_count": 29,
      "outputs": [
        {
          "output_type": "execute_result",
          "data": {
            "text/plain": [
              "0.7321559278081017"
            ]
          },
          "metadata": {},
          "execution_count": 29
        }
      ]
    },
    {
      "cell_type": "markdown",
      "source": [
        "Our overall accuracy is 73%"
      ],
      "metadata": {
        "id": "duNSWLMIHzal"
      }
    }
  ],
  "metadata": {
    "kernelspec": {
      "display_name": "Python 3",
      "language": "python",
      "name": "python3"
    },
    "language_info": {
      "codemirror_mode": {
        "name": "ipython",
        "version": 3
      },
      "file_extension": ".py",
      "mimetype": "text/x-python",
      "name": "python",
      "nbconvert_exporter": "python",
      "pygments_lexer": "ipython3",
      "version": "3.7.6"
    },
    "papermill": {
      "duration": 5.808168,
      "end_time": "2020-11-20T10:04:29.753004",
      "environment_variables": {},
      "exception": null,
      "input_path": "__notebook__.ipynb",
      "output_path": "__notebook__.ipynb",
      "parameters": {},
      "start_time": "2020-11-20T10:04:23.944836",
      "version": "2.1.0"
    },
    "colab": {
      "provenance": []
    }
  },
  "nbformat": 4,
  "nbformat_minor": 0
}