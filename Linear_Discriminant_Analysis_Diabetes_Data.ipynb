{
  "cells": [
    {
      "cell_type": "markdown",
      "metadata": {
        "_cell_guid": "b1076dfc-b9ad-4769-8c92-a6c4dae69d19",
        "_uuid": "8f2839f25d086af736a60e9eeb907d3b93b6e0e5",
        "papermill": {
          "duration": 0.014205,
          "end_time": "2020-11-20T10:04:28.128069",
          "exception": false,
          "start_time": "2020-11-20T10:04:28.113864",
          "status": "completed"
        },
        "tags": [],
        "id": "Cvsk42pAGxwR"
      },
      "source": [
        "# Linear Discriminant Analysis on Diabetes Data"
      ]
    },
    {
      "cell_type": "markdown",
      "source": [
        "## Mohammad Abdul Wahed"
      ],
      "metadata": {
        "id": "Hm-qUbQgG-5g"
      }
    },
    {
      "cell_type": "markdown",
      "source": [
        "## Contents\n",
        "\n",
        "\n",
        "*   Objective\n",
        "*   Description of Diabetes Dataset\n",
        "*   Importing Libraries\n",
        "*   Loading Data\n",
        "*   Replacing '0' values with NaN in Glucose,\tBloodPressure,\tSkinThickness,\tInsulin and\tBMI\tcolums\n",
        "*   Counting the number of null values\n",
        "*   Imputing missing values using Multiple Imputation by Chained Equations(MICE)\n",
        "*   Scaling the data\n",
        "*   Splitting the data into train and test set using Twinning technique\n",
        "*   Fitting a model using Linear Discriminant Analysis\n",
        "*   Using the model to predict diabetes using test dataset\n",
        "*   Model evaluation and accuracy\n",
        "\n",
        "\n",
        "\n",
        "\n",
        "\n",
        "\n",
        "\n",
        "\n",
        "\n"
      ],
      "metadata": {
        "id": "bKkUYuCSKq-u"
      }
    },
    {
      "cell_type": "markdown",
      "source": [
        "## Objective"
      ],
      "metadata": {
        "id": "STqTRhi7IvaQ"
      }
    },
    {
      "cell_type": "markdown",
      "source": [
        " The objective is to develop a model that predicts based on diagnostic measurements whether a patient has diabetes."
      ],
      "metadata": {
        "id": "sPCi3MHrI3Ov"
      }
    },
    {
      "cell_type": "markdown",
      "source": [
        "## Description of Diabetes Dataset"
      ],
      "metadata": {
        "id": "b2tcz-yDra0q"
      }
    },
    {
      "cell_type": "markdown",
      "source": [
        "This dataset is originally from the National Institute of Diabetes and Digestive and Kidney Diseases."
      ],
      "metadata": {
        "id": "C4VJZN-9r3D6"
      }
    },
    {
      "cell_type": "markdown",
      "source": [
        "\n",
        "Several constraints were placed on the selection of these instances from a larger database. In particular, all patients here are females at least 21 years old of Pima Indian heritage."
      ],
      "metadata": {
        "id": "IUEK_89GsMhh"
      }
    },
    {
      "cell_type": "markdown",
      "source": [
        "\n",
        "\n",
        "*   Pregnancies: Number of times pregnant\n",
        "*   Glucose: Plasma glucose concentration a 2 hours in an oral glucose tolerance test\n",
        "*   BloodPressure: Diastolic blood pressure (mm Hg)\n",
        "*   SkinThickness: Triceps skin fold thickness (mm)\n",
        "*   Insulin: 2-Hour serum insulin (mu U/ml)\n",
        "*   BMI: Body mass index (weight in kg/(height in m)^2)\n",
        "*   DiabetesPedigreeFunction: Diabetes pedigree function\n",
        "*   Age: Age (years)\n",
        "*   Outcome: Class variable (0 or 1)\n",
        "\n",
        "\n"
      ],
      "metadata": {
        "id": "WTysFXUnsU5a"
      }
    },
    {
      "cell_type": "markdown",
      "metadata": {
        "_cell_guid": "79c7e3d0-c299-4dcb-8224-4455121ee9b0",
        "_uuid": "d629ff2d2480ee46fbb7e2d37f6b5fab8052498a",
        "collapsed": true,
        "papermill": {
          "duration": 0.013338,
          "end_time": "2020-11-20T10:04:28.157062",
          "exception": false,
          "start_time": "2020-11-20T10:04:28.143724",
          "status": "completed"
        },
        "tags": [],
        "id": "hO9e1qxtGxwT"
      },
      "source": [
        "## Importing Libraries"
      ]
    },
    {
      "cell_type": "code",
      "execution_count": 20,
      "metadata": {
        "execution": {
          "iopub.execute_input": "2020-11-20T10:04:28.188873Z",
          "iopub.status.busy": "2020-11-20T10:04:28.188177Z",
          "iopub.status.idle": "2020-11-20T10:04:28.190742Z",
          "shell.execute_reply": "2020-11-20T10:04:28.190077Z"
        },
        "papermill": {
          "duration": 0.020199,
          "end_time": "2020-11-20T10:04:28.190848",
          "exception": false,
          "start_time": "2020-11-20T10:04:28.170649",
          "status": "completed"
        },
        "tags": [],
        "id": "Og1qcsOzGxwT"
      },
      "outputs": [],
      "source": [
        "import pandas as pd\n",
        "import numpy as np\n",
        "from sklearn.preprocessing import StandardScaler\n",
        "from sklearn.discriminant_analysis import LinearDiscriminantAnalysis \n",
        "from sklearn.metrics import classification_report\n",
        "from sklearn.metrics import confusion_matrix\n",
        "from sklearn.metrics import f1_score"
      ]
    },
    {
      "cell_type": "markdown",
      "metadata": {
        "papermill": {
          "duration": 0.00915,
          "end_time": "2020-11-20T10:04:28.209653",
          "exception": false,
          "start_time": "2020-11-20T10:04:28.200503",
          "status": "completed"
        },
        "tags": [],
        "id": "HkhZVJ_mGxwU"
      },
      "source": [
        "## Loading Data"
      ]
    },
    {
      "cell_type": "code",
      "execution_count": 2,
      "metadata": {
        "execution": {
          "iopub.execute_input": "2020-11-20T10:04:28.241011Z",
          "iopub.status.busy": "2020-11-20T10:04:28.240360Z",
          "iopub.status.idle": "2020-11-20T10:04:28.259176Z",
          "shell.execute_reply": "2020-11-20T10:04:28.258576Z"
        },
        "papermill": {
          "duration": 0.040288,
          "end_time": "2020-11-20T10:04:28.259278",
          "exception": false,
          "start_time": "2020-11-20T10:04:28.218990",
          "status": "completed"
        },
        "tags": [],
        "id": "k9E83Dg5GxwU"
      },
      "outputs": [],
      "source": [
        "data = pd.read_csv(\"diabetes.csv\")"
      ]
    },
    {
      "cell_type": "code",
      "execution_count": 3,
      "metadata": {
        "execution": {
          "iopub.execute_input": "2020-11-20T10:04:28.294787Z",
          "iopub.status.busy": "2020-11-20T10:04:28.286062Z",
          "iopub.status.idle": "2020-11-20T10:04:28.308817Z",
          "shell.execute_reply": "2020-11-20T10:04:28.308178Z"
        },
        "papermill": {
          "duration": 0.040263,
          "end_time": "2020-11-20T10:04:28.308921",
          "exception": false,
          "start_time": "2020-11-20T10:04:28.268658",
          "status": "completed"
        },
        "tags": [],
        "colab": {
          "base_uri": "https://localhost:8080/",
          "height": 206
        },
        "id": "GkI85PBqGxwU",
        "outputId": "7415c5bb-d3bf-406a-8a7c-8c38b91826e3"
      },
      "outputs": [
        {
          "output_type": "execute_result",
          "data": {
            "text/plain": [
              "   Pregnancies  Glucose  BloodPressure  SkinThickness  Insulin   BMI  \\\n",
              "0            6      148             72             35        0  33.6   \n",
              "1            1       85             66             29        0  26.6   \n",
              "2            8      183             64              0        0  23.3   \n",
              "3            1       89             66             23       94  28.1   \n",
              "4            0      137             40             35      168  43.1   \n",
              "\n",
              "   DiabetesPedigreeFunction  Age  Outcome  \n",
              "0                     0.627   50        1  \n",
              "1                     0.351   31        0  \n",
              "2                     0.672   32        1  \n",
              "3                     0.167   21        0  \n",
              "4                     2.288   33        1  "
            ],
            "text/html": [
              "\n",
              "  <div id=\"df-a46161f5-9499-4b28-be7f-578b51834130\">\n",
              "    <div class=\"colab-df-container\">\n",
              "      <div>\n",
              "<style scoped>\n",
              "    .dataframe tbody tr th:only-of-type {\n",
              "        vertical-align: middle;\n",
              "    }\n",
              "\n",
              "    .dataframe tbody tr th {\n",
              "        vertical-align: top;\n",
              "    }\n",
              "\n",
              "    .dataframe thead th {\n",
              "        text-align: right;\n",
              "    }\n",
              "</style>\n",
              "<table border=\"1\" class=\"dataframe\">\n",
              "  <thead>\n",
              "    <tr style=\"text-align: right;\">\n",
              "      <th></th>\n",
              "      <th>Pregnancies</th>\n",
              "      <th>Glucose</th>\n",
              "      <th>BloodPressure</th>\n",
              "      <th>SkinThickness</th>\n",
              "      <th>Insulin</th>\n",
              "      <th>BMI</th>\n",
              "      <th>DiabetesPedigreeFunction</th>\n",
              "      <th>Age</th>\n",
              "      <th>Outcome</th>\n",
              "    </tr>\n",
              "  </thead>\n",
              "  <tbody>\n",
              "    <tr>\n",
              "      <th>0</th>\n",
              "      <td>6</td>\n",
              "      <td>148</td>\n",
              "      <td>72</td>\n",
              "      <td>35</td>\n",
              "      <td>0</td>\n",
              "      <td>33.6</td>\n",
              "      <td>0.627</td>\n",
              "      <td>50</td>\n",
              "      <td>1</td>\n",
              "    </tr>\n",
              "    <tr>\n",
              "      <th>1</th>\n",
              "      <td>1</td>\n",
              "      <td>85</td>\n",
              "      <td>66</td>\n",
              "      <td>29</td>\n",
              "      <td>0</td>\n",
              "      <td>26.6</td>\n",
              "      <td>0.351</td>\n",
              "      <td>31</td>\n",
              "      <td>0</td>\n",
              "    </tr>\n",
              "    <tr>\n",
              "      <th>2</th>\n",
              "      <td>8</td>\n",
              "      <td>183</td>\n",
              "      <td>64</td>\n",
              "      <td>0</td>\n",
              "      <td>0</td>\n",
              "      <td>23.3</td>\n",
              "      <td>0.672</td>\n",
              "      <td>32</td>\n",
              "      <td>1</td>\n",
              "    </tr>\n",
              "    <tr>\n",
              "      <th>3</th>\n",
              "      <td>1</td>\n",
              "      <td>89</td>\n",
              "      <td>66</td>\n",
              "      <td>23</td>\n",
              "      <td>94</td>\n",
              "      <td>28.1</td>\n",
              "      <td>0.167</td>\n",
              "      <td>21</td>\n",
              "      <td>0</td>\n",
              "    </tr>\n",
              "    <tr>\n",
              "      <th>4</th>\n",
              "      <td>0</td>\n",
              "      <td>137</td>\n",
              "      <td>40</td>\n",
              "      <td>35</td>\n",
              "      <td>168</td>\n",
              "      <td>43.1</td>\n",
              "      <td>2.288</td>\n",
              "      <td>33</td>\n",
              "      <td>1</td>\n",
              "    </tr>\n",
              "  </tbody>\n",
              "</table>\n",
              "</div>\n",
              "      <button class=\"colab-df-convert\" onclick=\"convertToInteractive('df-a46161f5-9499-4b28-be7f-578b51834130')\"\n",
              "              title=\"Convert this dataframe to an interactive table.\"\n",
              "              style=\"display:none;\">\n",
              "        \n",
              "  <svg xmlns=\"http://www.w3.org/2000/svg\" height=\"24px\"viewBox=\"0 0 24 24\"\n",
              "       width=\"24px\">\n",
              "    <path d=\"M0 0h24v24H0V0z\" fill=\"none\"/>\n",
              "    <path d=\"M18.56 5.44l.94 2.06.94-2.06 2.06-.94-2.06-.94-.94-2.06-.94 2.06-2.06.94zm-11 1L8.5 8.5l.94-2.06 2.06-.94-2.06-.94L8.5 2.5l-.94 2.06-2.06.94zm10 10l.94 2.06.94-2.06 2.06-.94-2.06-.94-.94-2.06-.94 2.06-2.06.94z\"/><path d=\"M17.41 7.96l-1.37-1.37c-.4-.4-.92-.59-1.43-.59-.52 0-1.04.2-1.43.59L10.3 9.45l-7.72 7.72c-.78.78-.78 2.05 0 2.83L4 21.41c.39.39.9.59 1.41.59.51 0 1.02-.2 1.41-.59l7.78-7.78 2.81-2.81c.8-.78.8-2.07 0-2.86zM5.41 20L4 18.59l7.72-7.72 1.47 1.35L5.41 20z\"/>\n",
              "  </svg>\n",
              "      </button>\n",
              "      \n",
              "  <style>\n",
              "    .colab-df-container {\n",
              "      display:flex;\n",
              "      flex-wrap:wrap;\n",
              "      gap: 12px;\n",
              "    }\n",
              "\n",
              "    .colab-df-convert {\n",
              "      background-color: #E8F0FE;\n",
              "      border: none;\n",
              "      border-radius: 50%;\n",
              "      cursor: pointer;\n",
              "      display: none;\n",
              "      fill: #1967D2;\n",
              "      height: 32px;\n",
              "      padding: 0 0 0 0;\n",
              "      width: 32px;\n",
              "    }\n",
              "\n",
              "    .colab-df-convert:hover {\n",
              "      background-color: #E2EBFA;\n",
              "      box-shadow: 0px 1px 2px rgba(60, 64, 67, 0.3), 0px 1px 3px 1px rgba(60, 64, 67, 0.15);\n",
              "      fill: #174EA6;\n",
              "    }\n",
              "\n",
              "    [theme=dark] .colab-df-convert {\n",
              "      background-color: #3B4455;\n",
              "      fill: #D2E3FC;\n",
              "    }\n",
              "\n",
              "    [theme=dark] .colab-df-convert:hover {\n",
              "      background-color: #434B5C;\n",
              "      box-shadow: 0px 1px 3px 1px rgba(0, 0, 0, 0.15);\n",
              "      filter: drop-shadow(0px 1px 2px rgba(0, 0, 0, 0.3));\n",
              "      fill: #FFFFFF;\n",
              "    }\n",
              "  </style>\n",
              "\n",
              "      <script>\n",
              "        const buttonEl =\n",
              "          document.querySelector('#df-a46161f5-9499-4b28-be7f-578b51834130 button.colab-df-convert');\n",
              "        buttonEl.style.display =\n",
              "          google.colab.kernel.accessAllowed ? 'block' : 'none';\n",
              "\n",
              "        async function convertToInteractive(key) {\n",
              "          const element = document.querySelector('#df-a46161f5-9499-4b28-be7f-578b51834130');\n",
              "          const dataTable =\n",
              "            await google.colab.kernel.invokeFunction('convertToInteractive',\n",
              "                                                     [key], {});\n",
              "          if (!dataTable) return;\n",
              "\n",
              "          const docLinkHtml = 'Like what you see? Visit the ' +\n",
              "            '<a target=\"_blank\" href=https://colab.research.google.com/notebooks/data_table.ipynb>data table notebook</a>'\n",
              "            + ' to learn more about interactive tables.';\n",
              "          element.innerHTML = '';\n",
              "          dataTable['output_type'] = 'display_data';\n",
              "          await google.colab.output.renderOutput(dataTable, element);\n",
              "          const docLink = document.createElement('div');\n",
              "          docLink.innerHTML = docLinkHtml;\n",
              "          element.appendChild(docLink);\n",
              "        }\n",
              "      </script>\n",
              "    </div>\n",
              "  </div>\n",
              "  "
            ]
          },
          "metadata": {},
          "execution_count": 3
        }
      ],
      "source": [
        "data.head()"
      ]
    },
    {
      "cell_type": "code",
      "source": [
        "data.shape"
      ],
      "metadata": {
        "colab": {
          "base_uri": "https://localhost:8080/"
        },
        "id": "SVBGhyCQHn5n",
        "outputId": "1682f127-b6a0-41ac-af02-61b715ac1a2a"
      },
      "execution_count": 4,
      "outputs": [
        {
          "output_type": "execute_result",
          "data": {
            "text/plain": [
              "(768, 9)"
            ]
          },
          "metadata": {},
          "execution_count": 4
        }
      ]
    },
    {
      "cell_type": "markdown",
      "source": [
        "There are 768 rows and 9 columns"
      ],
      "metadata": {
        "id": "qkm-1jV5HxKX"
      }
    },
    {
      "cell_type": "code",
      "source": [
        "data.describe().T"
      ],
      "metadata": {
        "colab": {
          "base_uri": "https://localhost:8080/",
          "height": 331
        },
        "id": "rPDCJXD0KBYr",
        "outputId": "8771c3d1-88b8-4e7f-93ab-a15fe81d75f4"
      },
      "execution_count": 5,
      "outputs": [
        {
          "output_type": "execute_result",
          "data": {
            "text/plain": [
              "                          count        mean         std     min       25%  \\\n",
              "Pregnancies               768.0    3.845052    3.369578   0.000   1.00000   \n",
              "Glucose                   768.0  120.894531   31.972618   0.000  99.00000   \n",
              "BloodPressure             768.0   69.105469   19.355807   0.000  62.00000   \n",
              "SkinThickness             768.0   20.536458   15.952218   0.000   0.00000   \n",
              "Insulin                   768.0   79.799479  115.244002   0.000   0.00000   \n",
              "BMI                       768.0   31.992578    7.884160   0.000  27.30000   \n",
              "DiabetesPedigreeFunction  768.0    0.471876    0.331329   0.078   0.24375   \n",
              "Age                       768.0   33.240885   11.760232  21.000  24.00000   \n",
              "Outcome                   768.0    0.348958    0.476951   0.000   0.00000   \n",
              "\n",
              "                               50%        75%     max  \n",
              "Pregnancies                 3.0000    6.00000   17.00  \n",
              "Glucose                   117.0000  140.25000  199.00  \n",
              "BloodPressure              72.0000   80.00000  122.00  \n",
              "SkinThickness              23.0000   32.00000   99.00  \n",
              "Insulin                    30.5000  127.25000  846.00  \n",
              "BMI                        32.0000   36.60000   67.10  \n",
              "DiabetesPedigreeFunction    0.3725    0.62625    2.42  \n",
              "Age                        29.0000   41.00000   81.00  \n",
              "Outcome                     0.0000    1.00000    1.00  "
            ],
            "text/html": [
              "\n",
              "  <div id=\"df-cb047eb3-5232-4fd4-9061-75f4b09298d6\">\n",
              "    <div class=\"colab-df-container\">\n",
              "      <div>\n",
              "<style scoped>\n",
              "    .dataframe tbody tr th:only-of-type {\n",
              "        vertical-align: middle;\n",
              "    }\n",
              "\n",
              "    .dataframe tbody tr th {\n",
              "        vertical-align: top;\n",
              "    }\n",
              "\n",
              "    .dataframe thead th {\n",
              "        text-align: right;\n",
              "    }\n",
              "</style>\n",
              "<table border=\"1\" class=\"dataframe\">\n",
              "  <thead>\n",
              "    <tr style=\"text-align: right;\">\n",
              "      <th></th>\n",
              "      <th>count</th>\n",
              "      <th>mean</th>\n",
              "      <th>std</th>\n",
              "      <th>min</th>\n",
              "      <th>25%</th>\n",
              "      <th>50%</th>\n",
              "      <th>75%</th>\n",
              "      <th>max</th>\n",
              "    </tr>\n",
              "  </thead>\n",
              "  <tbody>\n",
              "    <tr>\n",
              "      <th>Pregnancies</th>\n",
              "      <td>768.0</td>\n",
              "      <td>3.845052</td>\n",
              "      <td>3.369578</td>\n",
              "      <td>0.000</td>\n",
              "      <td>1.00000</td>\n",
              "      <td>3.0000</td>\n",
              "      <td>6.00000</td>\n",
              "      <td>17.00</td>\n",
              "    </tr>\n",
              "    <tr>\n",
              "      <th>Glucose</th>\n",
              "      <td>768.0</td>\n",
              "      <td>120.894531</td>\n",
              "      <td>31.972618</td>\n",
              "      <td>0.000</td>\n",
              "      <td>99.00000</td>\n",
              "      <td>117.0000</td>\n",
              "      <td>140.25000</td>\n",
              "      <td>199.00</td>\n",
              "    </tr>\n",
              "    <tr>\n",
              "      <th>BloodPressure</th>\n",
              "      <td>768.0</td>\n",
              "      <td>69.105469</td>\n",
              "      <td>19.355807</td>\n",
              "      <td>0.000</td>\n",
              "      <td>62.00000</td>\n",
              "      <td>72.0000</td>\n",
              "      <td>80.00000</td>\n",
              "      <td>122.00</td>\n",
              "    </tr>\n",
              "    <tr>\n",
              "      <th>SkinThickness</th>\n",
              "      <td>768.0</td>\n",
              "      <td>20.536458</td>\n",
              "      <td>15.952218</td>\n",
              "      <td>0.000</td>\n",
              "      <td>0.00000</td>\n",
              "      <td>23.0000</td>\n",
              "      <td>32.00000</td>\n",
              "      <td>99.00</td>\n",
              "    </tr>\n",
              "    <tr>\n",
              "      <th>Insulin</th>\n",
              "      <td>768.0</td>\n",
              "      <td>79.799479</td>\n",
              "      <td>115.244002</td>\n",
              "      <td>0.000</td>\n",
              "      <td>0.00000</td>\n",
              "      <td>30.5000</td>\n",
              "      <td>127.25000</td>\n",
              "      <td>846.00</td>\n",
              "    </tr>\n",
              "    <tr>\n",
              "      <th>BMI</th>\n",
              "      <td>768.0</td>\n",
              "      <td>31.992578</td>\n",
              "      <td>7.884160</td>\n",
              "      <td>0.000</td>\n",
              "      <td>27.30000</td>\n",
              "      <td>32.0000</td>\n",
              "      <td>36.60000</td>\n",
              "      <td>67.10</td>\n",
              "    </tr>\n",
              "    <tr>\n",
              "      <th>DiabetesPedigreeFunction</th>\n",
              "      <td>768.0</td>\n",
              "      <td>0.471876</td>\n",
              "      <td>0.331329</td>\n",
              "      <td>0.078</td>\n",
              "      <td>0.24375</td>\n",
              "      <td>0.3725</td>\n",
              "      <td>0.62625</td>\n",
              "      <td>2.42</td>\n",
              "    </tr>\n",
              "    <tr>\n",
              "      <th>Age</th>\n",
              "      <td>768.0</td>\n",
              "      <td>33.240885</td>\n",
              "      <td>11.760232</td>\n",
              "      <td>21.000</td>\n",
              "      <td>24.00000</td>\n",
              "      <td>29.0000</td>\n",
              "      <td>41.00000</td>\n",
              "      <td>81.00</td>\n",
              "    </tr>\n",
              "    <tr>\n",
              "      <th>Outcome</th>\n",
              "      <td>768.0</td>\n",
              "      <td>0.348958</td>\n",
              "      <td>0.476951</td>\n",
              "      <td>0.000</td>\n",
              "      <td>0.00000</td>\n",
              "      <td>0.0000</td>\n",
              "      <td>1.00000</td>\n",
              "      <td>1.00</td>\n",
              "    </tr>\n",
              "  </tbody>\n",
              "</table>\n",
              "</div>\n",
              "      <button class=\"colab-df-convert\" onclick=\"convertToInteractive('df-cb047eb3-5232-4fd4-9061-75f4b09298d6')\"\n",
              "              title=\"Convert this dataframe to an interactive table.\"\n",
              "              style=\"display:none;\">\n",
              "        \n",
              "  <svg xmlns=\"http://www.w3.org/2000/svg\" height=\"24px\"viewBox=\"0 0 24 24\"\n",
              "       width=\"24px\">\n",
              "    <path d=\"M0 0h24v24H0V0z\" fill=\"none\"/>\n",
              "    <path d=\"M18.56 5.44l.94 2.06.94-2.06 2.06-.94-2.06-.94-.94-2.06-.94 2.06-2.06.94zm-11 1L8.5 8.5l.94-2.06 2.06-.94-2.06-.94L8.5 2.5l-.94 2.06-2.06.94zm10 10l.94 2.06.94-2.06 2.06-.94-2.06-.94-.94-2.06-.94 2.06-2.06.94z\"/><path d=\"M17.41 7.96l-1.37-1.37c-.4-.4-.92-.59-1.43-.59-.52 0-1.04.2-1.43.59L10.3 9.45l-7.72 7.72c-.78.78-.78 2.05 0 2.83L4 21.41c.39.39.9.59 1.41.59.51 0 1.02-.2 1.41-.59l7.78-7.78 2.81-2.81c.8-.78.8-2.07 0-2.86zM5.41 20L4 18.59l7.72-7.72 1.47 1.35L5.41 20z\"/>\n",
              "  </svg>\n",
              "      </button>\n",
              "      \n",
              "  <style>\n",
              "    .colab-df-container {\n",
              "      display:flex;\n",
              "      flex-wrap:wrap;\n",
              "      gap: 12px;\n",
              "    }\n",
              "\n",
              "    .colab-df-convert {\n",
              "      background-color: #E8F0FE;\n",
              "      border: none;\n",
              "      border-radius: 50%;\n",
              "      cursor: pointer;\n",
              "      display: none;\n",
              "      fill: #1967D2;\n",
              "      height: 32px;\n",
              "      padding: 0 0 0 0;\n",
              "      width: 32px;\n",
              "    }\n",
              "\n",
              "    .colab-df-convert:hover {\n",
              "      background-color: #E2EBFA;\n",
              "      box-shadow: 0px 1px 2px rgba(60, 64, 67, 0.3), 0px 1px 3px 1px rgba(60, 64, 67, 0.15);\n",
              "      fill: #174EA6;\n",
              "    }\n",
              "\n",
              "    [theme=dark] .colab-df-convert {\n",
              "      background-color: #3B4455;\n",
              "      fill: #D2E3FC;\n",
              "    }\n",
              "\n",
              "    [theme=dark] .colab-df-convert:hover {\n",
              "      background-color: #434B5C;\n",
              "      box-shadow: 0px 1px 3px 1px rgba(0, 0, 0, 0.15);\n",
              "      filter: drop-shadow(0px 1px 2px rgba(0, 0, 0, 0.3));\n",
              "      fill: #FFFFFF;\n",
              "    }\n",
              "  </style>\n",
              "\n",
              "      <script>\n",
              "        const buttonEl =\n",
              "          document.querySelector('#df-cb047eb3-5232-4fd4-9061-75f4b09298d6 button.colab-df-convert');\n",
              "        buttonEl.style.display =\n",
              "          google.colab.kernel.accessAllowed ? 'block' : 'none';\n",
              "\n",
              "        async function convertToInteractive(key) {\n",
              "          const element = document.querySelector('#df-cb047eb3-5232-4fd4-9061-75f4b09298d6');\n",
              "          const dataTable =\n",
              "            await google.colab.kernel.invokeFunction('convertToInteractive',\n",
              "                                                     [key], {});\n",
              "          if (!dataTable) return;\n",
              "\n",
              "          const docLinkHtml = 'Like what you see? Visit the ' +\n",
              "            '<a target=\"_blank\" href=https://colab.research.google.com/notebooks/data_table.ipynb>data table notebook</a>'\n",
              "            + ' to learn more about interactive tables.';\n",
              "          element.innerHTML = '';\n",
              "          dataTable['output_type'] = 'display_data';\n",
              "          await google.colab.output.renderOutput(dataTable, element);\n",
              "          const docLink = document.createElement('div');\n",
              "          docLink.innerHTML = docLinkHtml;\n",
              "          element.appendChild(docLink);\n",
              "        }\n",
              "      </script>\n",
              "    </div>\n",
              "  </div>\n",
              "  "
            ]
          },
          "metadata": {},
          "execution_count": 5
        }
      ]
    },
    {
      "cell_type": "markdown",
      "source": [
        "As we see, the minimum value in Glucose, BloodPressure, SkinThickness, insulin, BMI is '0' indicating that they are actually null values. We replace the '0' values with NaN and impute NaN(missing values) using Multiple Imputation by Chained Equations (MICE)"
      ],
      "metadata": {
        "id": "NUaPvjS7P1aE"
      }
    },
    {
      "cell_type": "markdown",
      "source": [
        "Also we see that the mean of outcome is 0.34 which means that the dataset is imbalanced(outcome '0' and outcome '1' are not in proportion). The F1 score metric becomes especially valuable when working on classification models in which our data set is imbalanced. We will implement it later in this notebook."
      ],
      "metadata": {
        "id": "exIvBsNj4q_A"
      }
    },
    {
      "cell_type": "markdown",
      "source": [
        "## Replacing '0' values with NaN"
      ],
      "metadata": {
        "id": "hvMtHlyLMBpg"
      }
    },
    {
      "cell_type": "code",
      "source": [
        "data[[\"Glucose\", \"BloodPressure\", \"SkinThickness\", \"Insulin\", \"BMI\"]] = data[[\"Glucose\", \"BloodPressure\", \"SkinThickness\", \"Insulin\", \"BMI\"]].replace(0, np.NaN)"
      ],
      "metadata": {
        "id": "iyclBF02MemS"
      },
      "execution_count": 6,
      "outputs": []
    },
    {
      "cell_type": "markdown",
      "source": [
        "## Counting the number of null values"
      ],
      "metadata": {
        "id": "q2Ela3-8M10R"
      }
    },
    {
      "cell_type": "code",
      "source": [
        "data.isnull().sum()"
      ],
      "metadata": {
        "colab": {
          "base_uri": "https://localhost:8080/"
        },
        "id": "aNPoxSPwuNQN",
        "outputId": "54c7f4e8-200a-474d-d017-2bcdc01394f8"
      },
      "execution_count": 7,
      "outputs": [
        {
          "output_type": "execute_result",
          "data": {
            "text/plain": [
              "Pregnancies                   0\n",
              "Glucose                       5\n",
              "BloodPressure                35\n",
              "SkinThickness               227\n",
              "Insulin                     374\n",
              "BMI                          11\n",
              "DiabetesPedigreeFunction      0\n",
              "Age                           0\n",
              "Outcome                       0\n",
              "dtype: int64"
            ]
          },
          "metadata": {},
          "execution_count": 7
        }
      ]
    },
    {
      "cell_type": "markdown",
      "source": [
        "## Imputing missing values using Multiple Imputation by Chained Equations(MICE)"
      ],
      "metadata": {
        "id": "rBw_jui9vgNL"
      }
    },
    {
      "cell_type": "markdown",
      "source": [
        "Let's first install the `miceforest` package."
      ],
      "metadata": {
        "id": "lMeM_eNloJtG"
      }
    },
    {
      "cell_type": "code",
      "source": [
        "!pip install miceforest --no-cache-dir\n"
      ],
      "metadata": {
        "id": "ngvFMbzTdnWp"
      },
      "execution_count": null,
      "outputs": []
    },
    {
      "cell_type": "markdown",
      "source": [
        "Installing latest version of `miceforest`"
      ],
      "metadata": {
        "id": "Tz-TyLNkfuXW"
      }
    },
    {
      "cell_type": "code",
      "source": [
        "!pip install git+https://github.com/AnotherSamWilson/miceforest.git"
      ],
      "metadata": {
        "id": "sSX0pvMfecsx"
      },
      "execution_count": null,
      "outputs": []
    },
    {
      "cell_type": "code",
      "source": [
        "import miceforest as mf"
      ],
      "metadata": {
        "id": "Lt-f0SWUelG7"
      },
      "execution_count": 10,
      "outputs": []
    },
    {
      "cell_type": "markdown",
      "source": [
        "We have the original dataset with missing values(NaN) in `data`. Let's try to impute the missing values in the data with `miceforest`."
      ],
      "metadata": {
        "id": "lGQ0yTX0e8XA"
      }
    },
    {
      "cell_type": "code",
      "source": [
        "# Create kernel. \n",
        "kds = mf.ImputationKernel(\n",
        "  data,\n",
        "  save_all_iterations=True,\n",
        "  random_state=100\n",
        ")\n",
        "\n",
        "# Run the MICE algorithm for 5 iterations\n",
        "kds.mice(5)\n",
        "\n",
        "# Return the completed dataset.\n",
        "data_imputed = kds.complete_data()"
      ],
      "metadata": {
        "id": "Ac-cv1MUfC-w"
      },
      "execution_count": 11,
      "outputs": []
    },
    {
      "cell_type": "code",
      "source": [
        "data_imputed.isnull().sum()"
      ],
      "metadata": {
        "colab": {
          "base_uri": "https://localhost:8080/"
        },
        "id": "M9a5uUxagqX5",
        "outputId": "023da000-95d5-4146-9cb7-b77732711f6c"
      },
      "execution_count": 12,
      "outputs": [
        {
          "output_type": "execute_result",
          "data": {
            "text/plain": [
              "Pregnancies                 0\n",
              "Glucose                     0\n",
              "BloodPressure               0\n",
              "SkinThickness               0\n",
              "Insulin                     0\n",
              "BMI                         0\n",
              "DiabetesPedigreeFunction    0\n",
              "Age                         0\n",
              "Outcome                     0\n",
              "dtype: int64"
            ]
          },
          "metadata": {},
          "execution_count": 12
        }
      ]
    },
    {
      "cell_type": "markdown",
      "source": [
        "Thus, missing values are imputed"
      ],
      "metadata": {
        "id": "HiYvfimriaOh"
      }
    },
    {
      "cell_type": "markdown",
      "source": [
        "## Scaling the data"
      ],
      "metadata": {
        "id": "wS-EHkAtGEUH"
      }
    },
    {
      "cell_type": "markdown",
      "source": [
        "One of the key assumptions of LDA is that each of the predictor variables have same variance. An easy way to ensure that this assumption is met is to scale each variable such that it has mean of 0 and standard deviation of 1."
      ],
      "metadata": {
        "id": "ATfPj3osG3JE"
      }
    },
    {
      "cell_type": "code",
      "source": [
        "scale = StandardScaler()\n",
        "data_imputed_X = data_imputed[['Pregnancies', 'Glucose','BloodPressure','SkinThickness','Insulin','BMI','DiabetesPedigreeFunction','Age']]\n",
        "scaled_data_imputed_X = scale.fit_transform(data_imputed_X)"
      ],
      "metadata": {
        "id": "At5OxKqlHgGG"
      },
      "execution_count": 73,
      "outputs": []
    },
    {
      "cell_type": "code",
      "source": [
        "#checking mean of the scaled data\n",
        "scaled_data_imputed_X.mean(axis=0)"
      ],
      "metadata": {
        "colab": {
          "base_uri": "https://localhost:8080/"
        },
        "id": "XQ1wRMuIPkn9",
        "outputId": "b6abf69e-bd60-4653-dcf1-1aac0ef7107e"
      },
      "execution_count": 74,
      "outputs": [
        {
          "output_type": "execute_result",
          "data": {
            "text/plain": [
              "array([-6.47630098e-17,  1.54968631e-16,  3.77013235e-16, -1.13335267e-16,\n",
              "       -9.02056208e-17,  6.01370805e-17,  2.45174251e-16,  1.93132547e-16])"
            ]
          },
          "metadata": {},
          "execution_count": 74
        }
      ]
    },
    {
      "cell_type": "code",
      "source": [
        "#checking standard deviation of the scaled data\n",
        "scaled_data_imputed_X.std(axis=0)"
      ],
      "metadata": {
        "colab": {
          "base_uri": "https://localhost:8080/"
        },
        "id": "lTQMgpo-Pmrb",
        "outputId": "22afe3d1-0440-4dda-85c1-7ab679753ab5"
      },
      "execution_count": 75,
      "outputs": [
        {
          "output_type": "execute_result",
          "data": {
            "text/plain": [
              "array([1., 1., 1., 1., 1., 1., 1., 1.])"
            ]
          },
          "metadata": {},
          "execution_count": 75
        }
      ]
    },
    {
      "cell_type": "markdown",
      "source": [
        "The data has been scaled to mean 0 and standard deviation 1."
      ],
      "metadata": {
        "id": "DfNUZQTZPu-D"
      }
    },
    {
      "cell_type": "code",
      "source": [
        "scaled_data_imputed_X"
      ],
      "metadata": {
        "colab": {
          "base_uri": "https://localhost:8080/"
        },
        "id": "m6xyZj62U3Pc",
        "outputId": "abf41a49-d6d2-4cdc-d796-9216c5efcf6f"
      },
      "execution_count": 76,
      "outputs": [
        {
          "output_type": "execute_result",
          "data": {
            "text/plain": [
              "array([[ 0.63994726,  0.86428946, -0.03929522, ...,  0.16899856,\n",
              "         0.46849198,  1.4259954 ],\n",
              "       [-0.84488505, -1.20027638, -0.52867995, ..., -0.84567228,\n",
              "        -0.36506078, -0.19067191],\n",
              "       [ 1.23388019,  2.01127048, -0.6918082 , ..., -1.3240171 ,\n",
              "         0.60439732, -0.10558415],\n",
              "       ...,\n",
              "       [ 0.3429808 , -0.02052447, -0.03929522, ..., -0.90365347,\n",
              "        -0.68519336, -0.27575966],\n",
              "       [-0.84488505,  0.14332996, -1.01806469, ..., -0.33833686,\n",
              "        -0.37110101,  1.17073215],\n",
              "       [-0.84488505, -0.93810929, -0.20242346, ..., -0.29485096,\n",
              "        -0.47378505, -0.87137393]])"
            ]
          },
          "metadata": {},
          "execution_count": 76
        }
      ]
    },
    {
      "cell_type": "code",
      "source": [
        "scaled_data_imputed_X.shape"
      ],
      "metadata": {
        "colab": {
          "base_uri": "https://localhost:8080/"
        },
        "id": "ReM__F9lUp3v",
        "outputId": "8dacd4d7-7209-41ca-b8e7-5a7be250d58a"
      },
      "execution_count": 77,
      "outputs": [
        {
          "output_type": "execute_result",
          "data": {
            "text/plain": [
              "(768, 8)"
            ]
          },
          "metadata": {},
          "execution_count": 77
        }
      ]
    },
    {
      "cell_type": "code",
      "source": [
        "scaled_data_imputed_X = pd.DataFrame(scaled_data_imputed_X)"
      ],
      "metadata": {
        "id": "jf5rt8s4Vnu4"
      },
      "execution_count": 78,
      "outputs": []
    },
    {
      "cell_type": "code",
      "source": [
        "scaled_data_imputed_X.head()"
      ],
      "metadata": {
        "colab": {
          "base_uri": "https://localhost:8080/",
          "height": 206
        },
        "id": "Q49fsjThWBhq",
        "outputId": "2d5a321c-2790-45eb-e6b0-af121c244726"
      },
      "execution_count": 79,
      "outputs": [
        {
          "output_type": "execute_result",
          "data": {
            "text/plain": [
              "          0         1         2         3         4         5         6  \\\n",
              "0  0.639947  0.864289 -0.039295  0.588726  0.629324  0.168999  0.468492   \n",
              "1 -0.844885 -1.200276 -0.528680 -0.005676 -1.043159 -0.845672 -0.365061   \n",
              "2  1.233880  2.011270 -0.691808 -0.897278  1.136406 -1.324017  0.604397   \n",
              "3 -0.844885 -1.069193 -0.528680 -0.600077 -0.562765 -0.628243 -0.920763   \n",
              "4 -1.141852  0.503810 -2.649347  0.588726  0.095553  1.546052  5.484909   \n",
              "\n",
              "          7  \n",
              "0  1.425995  \n",
              "1 -0.190672  \n",
              "2 -0.105584  \n",
              "3 -1.041549  \n",
              "4 -0.020496  "
            ],
            "text/html": [
              "\n",
              "  <div id=\"df-4366a615-cf0b-4249-8a54-27223f09a33f\">\n",
              "    <div class=\"colab-df-container\">\n",
              "      <div>\n",
              "<style scoped>\n",
              "    .dataframe tbody tr th:only-of-type {\n",
              "        vertical-align: middle;\n",
              "    }\n",
              "\n",
              "    .dataframe tbody tr th {\n",
              "        vertical-align: top;\n",
              "    }\n",
              "\n",
              "    .dataframe thead th {\n",
              "        text-align: right;\n",
              "    }\n",
              "</style>\n",
              "<table border=\"1\" class=\"dataframe\">\n",
              "  <thead>\n",
              "    <tr style=\"text-align: right;\">\n",
              "      <th></th>\n",
              "      <th>0</th>\n",
              "      <th>1</th>\n",
              "      <th>2</th>\n",
              "      <th>3</th>\n",
              "      <th>4</th>\n",
              "      <th>5</th>\n",
              "      <th>6</th>\n",
              "      <th>7</th>\n",
              "    </tr>\n",
              "  </thead>\n",
              "  <tbody>\n",
              "    <tr>\n",
              "      <th>0</th>\n",
              "      <td>0.639947</td>\n",
              "      <td>0.864289</td>\n",
              "      <td>-0.039295</td>\n",
              "      <td>0.588726</td>\n",
              "      <td>0.629324</td>\n",
              "      <td>0.168999</td>\n",
              "      <td>0.468492</td>\n",
              "      <td>1.425995</td>\n",
              "    </tr>\n",
              "    <tr>\n",
              "      <th>1</th>\n",
              "      <td>-0.844885</td>\n",
              "      <td>-1.200276</td>\n",
              "      <td>-0.528680</td>\n",
              "      <td>-0.005676</td>\n",
              "      <td>-1.043159</td>\n",
              "      <td>-0.845672</td>\n",
              "      <td>-0.365061</td>\n",
              "      <td>-0.190672</td>\n",
              "    </tr>\n",
              "    <tr>\n",
              "      <th>2</th>\n",
              "      <td>1.233880</td>\n",
              "      <td>2.011270</td>\n",
              "      <td>-0.691808</td>\n",
              "      <td>-0.897278</td>\n",
              "      <td>1.136406</td>\n",
              "      <td>-1.324017</td>\n",
              "      <td>0.604397</td>\n",
              "      <td>-0.105584</td>\n",
              "    </tr>\n",
              "    <tr>\n",
              "      <th>3</th>\n",
              "      <td>-0.844885</td>\n",
              "      <td>-1.069193</td>\n",
              "      <td>-0.528680</td>\n",
              "      <td>-0.600077</td>\n",
              "      <td>-0.562765</td>\n",
              "      <td>-0.628243</td>\n",
              "      <td>-0.920763</td>\n",
              "      <td>-1.041549</td>\n",
              "    </tr>\n",
              "    <tr>\n",
              "      <th>4</th>\n",
              "      <td>-1.141852</td>\n",
              "      <td>0.503810</td>\n",
              "      <td>-2.649347</td>\n",
              "      <td>0.588726</td>\n",
              "      <td>0.095553</td>\n",
              "      <td>1.546052</td>\n",
              "      <td>5.484909</td>\n",
              "      <td>-0.020496</td>\n",
              "    </tr>\n",
              "  </tbody>\n",
              "</table>\n",
              "</div>\n",
              "      <button class=\"colab-df-convert\" onclick=\"convertToInteractive('df-4366a615-cf0b-4249-8a54-27223f09a33f')\"\n",
              "              title=\"Convert this dataframe to an interactive table.\"\n",
              "              style=\"display:none;\">\n",
              "        \n",
              "  <svg xmlns=\"http://www.w3.org/2000/svg\" height=\"24px\"viewBox=\"0 0 24 24\"\n",
              "       width=\"24px\">\n",
              "    <path d=\"M0 0h24v24H0V0z\" fill=\"none\"/>\n",
              "    <path d=\"M18.56 5.44l.94 2.06.94-2.06 2.06-.94-2.06-.94-.94-2.06-.94 2.06-2.06.94zm-11 1L8.5 8.5l.94-2.06 2.06-.94-2.06-.94L8.5 2.5l-.94 2.06-2.06.94zm10 10l.94 2.06.94-2.06 2.06-.94-2.06-.94-.94-2.06-.94 2.06-2.06.94z\"/><path d=\"M17.41 7.96l-1.37-1.37c-.4-.4-.92-.59-1.43-.59-.52 0-1.04.2-1.43.59L10.3 9.45l-7.72 7.72c-.78.78-.78 2.05 0 2.83L4 21.41c.39.39.9.59 1.41.59.51 0 1.02-.2 1.41-.59l7.78-7.78 2.81-2.81c.8-.78.8-2.07 0-2.86zM5.41 20L4 18.59l7.72-7.72 1.47 1.35L5.41 20z\"/>\n",
              "  </svg>\n",
              "      </button>\n",
              "      \n",
              "  <style>\n",
              "    .colab-df-container {\n",
              "      display:flex;\n",
              "      flex-wrap:wrap;\n",
              "      gap: 12px;\n",
              "    }\n",
              "\n",
              "    .colab-df-convert {\n",
              "      background-color: #E8F0FE;\n",
              "      border: none;\n",
              "      border-radius: 50%;\n",
              "      cursor: pointer;\n",
              "      display: none;\n",
              "      fill: #1967D2;\n",
              "      height: 32px;\n",
              "      padding: 0 0 0 0;\n",
              "      width: 32px;\n",
              "    }\n",
              "\n",
              "    .colab-df-convert:hover {\n",
              "      background-color: #E2EBFA;\n",
              "      box-shadow: 0px 1px 2px rgba(60, 64, 67, 0.3), 0px 1px 3px 1px rgba(60, 64, 67, 0.15);\n",
              "      fill: #174EA6;\n",
              "    }\n",
              "\n",
              "    [theme=dark] .colab-df-convert {\n",
              "      background-color: #3B4455;\n",
              "      fill: #D2E3FC;\n",
              "    }\n",
              "\n",
              "    [theme=dark] .colab-df-convert:hover {\n",
              "      background-color: #434B5C;\n",
              "      box-shadow: 0px 1px 3px 1px rgba(0, 0, 0, 0.15);\n",
              "      filter: drop-shadow(0px 1px 2px rgba(0, 0, 0, 0.3));\n",
              "      fill: #FFFFFF;\n",
              "    }\n",
              "  </style>\n",
              "\n",
              "      <script>\n",
              "        const buttonEl =\n",
              "          document.querySelector('#df-4366a615-cf0b-4249-8a54-27223f09a33f button.colab-df-convert');\n",
              "        buttonEl.style.display =\n",
              "          google.colab.kernel.accessAllowed ? 'block' : 'none';\n",
              "\n",
              "        async function convertToInteractive(key) {\n",
              "          const element = document.querySelector('#df-4366a615-cf0b-4249-8a54-27223f09a33f');\n",
              "          const dataTable =\n",
              "            await google.colab.kernel.invokeFunction('convertToInteractive',\n",
              "                                                     [key], {});\n",
              "          if (!dataTable) return;\n",
              "\n",
              "          const docLinkHtml = 'Like what you see? Visit the ' +\n",
              "            '<a target=\"_blank\" href=https://colab.research.google.com/notebooks/data_table.ipynb>data table notebook</a>'\n",
              "            + ' to learn more about interactive tables.';\n",
              "          element.innerHTML = '';\n",
              "          dataTable['output_type'] = 'display_data';\n",
              "          await google.colab.output.renderOutput(dataTable, element);\n",
              "          const docLink = document.createElement('div');\n",
              "          docLink.innerHTML = docLinkHtml;\n",
              "          element.appendChild(docLink);\n",
              "        }\n",
              "      </script>\n",
              "    </div>\n",
              "  </div>\n",
              "  "
            ]
          },
          "metadata": {},
          "execution_count": 79
        }
      ]
    },
    {
      "cell_type": "code",
      "source": [
        "data_Y = data[['Outcome']]\n",
        "data_Y"
      ],
      "metadata": {
        "colab": {
          "base_uri": "https://localhost:8080/",
          "height": 423
        },
        "id": "UIy3-y2-T_se",
        "outputId": "7853ad47-dbda-4644-946f-ae6ffb2406f5"
      },
      "execution_count": 80,
      "outputs": [
        {
          "output_type": "execute_result",
          "data": {
            "text/plain": [
              "     Outcome\n",
              "0          1\n",
              "1          0\n",
              "2          1\n",
              "3          0\n",
              "4          1\n",
              "..       ...\n",
              "763        0\n",
              "764        0\n",
              "765        0\n",
              "766        1\n",
              "767        0\n",
              "\n",
              "[768 rows x 1 columns]"
            ],
            "text/html": [
              "\n",
              "  <div id=\"df-d6060d1f-e6b6-43f9-9f0f-a2919aa23b75\">\n",
              "    <div class=\"colab-df-container\">\n",
              "      <div>\n",
              "<style scoped>\n",
              "    .dataframe tbody tr th:only-of-type {\n",
              "        vertical-align: middle;\n",
              "    }\n",
              "\n",
              "    .dataframe tbody tr th {\n",
              "        vertical-align: top;\n",
              "    }\n",
              "\n",
              "    .dataframe thead th {\n",
              "        text-align: right;\n",
              "    }\n",
              "</style>\n",
              "<table border=\"1\" class=\"dataframe\">\n",
              "  <thead>\n",
              "    <tr style=\"text-align: right;\">\n",
              "      <th></th>\n",
              "      <th>Outcome</th>\n",
              "    </tr>\n",
              "  </thead>\n",
              "  <tbody>\n",
              "    <tr>\n",
              "      <th>0</th>\n",
              "      <td>1</td>\n",
              "    </tr>\n",
              "    <tr>\n",
              "      <th>1</th>\n",
              "      <td>0</td>\n",
              "    </tr>\n",
              "    <tr>\n",
              "      <th>2</th>\n",
              "      <td>1</td>\n",
              "    </tr>\n",
              "    <tr>\n",
              "      <th>3</th>\n",
              "      <td>0</td>\n",
              "    </tr>\n",
              "    <tr>\n",
              "      <th>4</th>\n",
              "      <td>1</td>\n",
              "    </tr>\n",
              "    <tr>\n",
              "      <th>...</th>\n",
              "      <td>...</td>\n",
              "    </tr>\n",
              "    <tr>\n",
              "      <th>763</th>\n",
              "      <td>0</td>\n",
              "    </tr>\n",
              "    <tr>\n",
              "      <th>764</th>\n",
              "      <td>0</td>\n",
              "    </tr>\n",
              "    <tr>\n",
              "      <th>765</th>\n",
              "      <td>0</td>\n",
              "    </tr>\n",
              "    <tr>\n",
              "      <th>766</th>\n",
              "      <td>1</td>\n",
              "    </tr>\n",
              "    <tr>\n",
              "      <th>767</th>\n",
              "      <td>0</td>\n",
              "    </tr>\n",
              "  </tbody>\n",
              "</table>\n",
              "<p>768 rows × 1 columns</p>\n",
              "</div>\n",
              "      <button class=\"colab-df-convert\" onclick=\"convertToInteractive('df-d6060d1f-e6b6-43f9-9f0f-a2919aa23b75')\"\n",
              "              title=\"Convert this dataframe to an interactive table.\"\n",
              "              style=\"display:none;\">\n",
              "        \n",
              "  <svg xmlns=\"http://www.w3.org/2000/svg\" height=\"24px\"viewBox=\"0 0 24 24\"\n",
              "       width=\"24px\">\n",
              "    <path d=\"M0 0h24v24H0V0z\" fill=\"none\"/>\n",
              "    <path d=\"M18.56 5.44l.94 2.06.94-2.06 2.06-.94-2.06-.94-.94-2.06-.94 2.06-2.06.94zm-11 1L8.5 8.5l.94-2.06 2.06-.94-2.06-.94L8.5 2.5l-.94 2.06-2.06.94zm10 10l.94 2.06.94-2.06 2.06-.94-2.06-.94-.94-2.06-.94 2.06-2.06.94z\"/><path d=\"M17.41 7.96l-1.37-1.37c-.4-.4-.92-.59-1.43-.59-.52 0-1.04.2-1.43.59L10.3 9.45l-7.72 7.72c-.78.78-.78 2.05 0 2.83L4 21.41c.39.39.9.59 1.41.59.51 0 1.02-.2 1.41-.59l7.78-7.78 2.81-2.81c.8-.78.8-2.07 0-2.86zM5.41 20L4 18.59l7.72-7.72 1.47 1.35L5.41 20z\"/>\n",
              "  </svg>\n",
              "      </button>\n",
              "      \n",
              "  <style>\n",
              "    .colab-df-container {\n",
              "      display:flex;\n",
              "      flex-wrap:wrap;\n",
              "      gap: 12px;\n",
              "    }\n",
              "\n",
              "    .colab-df-convert {\n",
              "      background-color: #E8F0FE;\n",
              "      border: none;\n",
              "      border-radius: 50%;\n",
              "      cursor: pointer;\n",
              "      display: none;\n",
              "      fill: #1967D2;\n",
              "      height: 32px;\n",
              "      padding: 0 0 0 0;\n",
              "      width: 32px;\n",
              "    }\n",
              "\n",
              "    .colab-df-convert:hover {\n",
              "      background-color: #E2EBFA;\n",
              "      box-shadow: 0px 1px 2px rgba(60, 64, 67, 0.3), 0px 1px 3px 1px rgba(60, 64, 67, 0.15);\n",
              "      fill: #174EA6;\n",
              "    }\n",
              "\n",
              "    [theme=dark] .colab-df-convert {\n",
              "      background-color: #3B4455;\n",
              "      fill: #D2E3FC;\n",
              "    }\n",
              "\n",
              "    [theme=dark] .colab-df-convert:hover {\n",
              "      background-color: #434B5C;\n",
              "      box-shadow: 0px 1px 3px 1px rgba(0, 0, 0, 0.15);\n",
              "      filter: drop-shadow(0px 1px 2px rgba(0, 0, 0, 0.3));\n",
              "      fill: #FFFFFF;\n",
              "    }\n",
              "  </style>\n",
              "\n",
              "      <script>\n",
              "        const buttonEl =\n",
              "          document.querySelector('#df-d6060d1f-e6b6-43f9-9f0f-a2919aa23b75 button.colab-df-convert');\n",
              "        buttonEl.style.display =\n",
              "          google.colab.kernel.accessAllowed ? 'block' : 'none';\n",
              "\n",
              "        async function convertToInteractive(key) {\n",
              "          const element = document.querySelector('#df-d6060d1f-e6b6-43f9-9f0f-a2919aa23b75');\n",
              "          const dataTable =\n",
              "            await google.colab.kernel.invokeFunction('convertToInteractive',\n",
              "                                                     [key], {});\n",
              "          if (!dataTable) return;\n",
              "\n",
              "          const docLinkHtml = 'Like what you see? Visit the ' +\n",
              "            '<a target=\"_blank\" href=https://colab.research.google.com/notebooks/data_table.ipynb>data table notebook</a>'\n",
              "            + ' to learn more about interactive tables.';\n",
              "          element.innerHTML = '';\n",
              "          dataTable['output_type'] = 'display_data';\n",
              "          await google.colab.output.renderOutput(dataTable, element);\n",
              "          const docLink = document.createElement('div');\n",
              "          docLink.innerHTML = docLinkHtml;\n",
              "          element.appendChild(docLink);\n",
              "        }\n",
              "      </script>\n",
              "    </div>\n",
              "  </div>\n",
              "  "
            ]
          },
          "metadata": {},
          "execution_count": 80
        }
      ]
    },
    {
      "cell_type": "code",
      "source": [
        "data_Y.shape"
      ],
      "metadata": {
        "colab": {
          "base_uri": "https://localhost:8080/"
        },
        "id": "lRXdJZbYUbC5",
        "outputId": "0bc93045-717f-4724-e78b-81fba5516e48"
      },
      "execution_count": 81,
      "outputs": [
        {
          "output_type": "execute_result",
          "data": {
            "text/plain": [
              "(768, 1)"
            ]
          },
          "metadata": {},
          "execution_count": 81
        }
      ]
    },
    {
      "cell_type": "code",
      "source": [
        "data_Y = pd.DataFrame(data_Y)"
      ],
      "metadata": {
        "id": "FlpXKVwFWJEu"
      },
      "execution_count": 82,
      "outputs": []
    },
    {
      "cell_type": "code",
      "source": [
        "data_Y.head()"
      ],
      "metadata": {
        "colab": {
          "base_uri": "https://localhost:8080/",
          "height": 206
        },
        "id": "Bod-sROGWTbK",
        "outputId": "7e0841f6-3512-4dda-eb0b-c2422a121e3a"
      },
      "execution_count": 83,
      "outputs": [
        {
          "output_type": "execute_result",
          "data": {
            "text/plain": [
              "   Outcome\n",
              "0        1\n",
              "1        0\n",
              "2        1\n",
              "3        0\n",
              "4        1"
            ],
            "text/html": [
              "\n",
              "  <div id=\"df-b67ecb78-5e13-453d-96fe-d7f6110045b4\">\n",
              "    <div class=\"colab-df-container\">\n",
              "      <div>\n",
              "<style scoped>\n",
              "    .dataframe tbody tr th:only-of-type {\n",
              "        vertical-align: middle;\n",
              "    }\n",
              "\n",
              "    .dataframe tbody tr th {\n",
              "        vertical-align: top;\n",
              "    }\n",
              "\n",
              "    .dataframe thead th {\n",
              "        text-align: right;\n",
              "    }\n",
              "</style>\n",
              "<table border=\"1\" class=\"dataframe\">\n",
              "  <thead>\n",
              "    <tr style=\"text-align: right;\">\n",
              "      <th></th>\n",
              "      <th>Outcome</th>\n",
              "    </tr>\n",
              "  </thead>\n",
              "  <tbody>\n",
              "    <tr>\n",
              "      <th>0</th>\n",
              "      <td>1</td>\n",
              "    </tr>\n",
              "    <tr>\n",
              "      <th>1</th>\n",
              "      <td>0</td>\n",
              "    </tr>\n",
              "    <tr>\n",
              "      <th>2</th>\n",
              "      <td>1</td>\n",
              "    </tr>\n",
              "    <tr>\n",
              "      <th>3</th>\n",
              "      <td>0</td>\n",
              "    </tr>\n",
              "    <tr>\n",
              "      <th>4</th>\n",
              "      <td>1</td>\n",
              "    </tr>\n",
              "  </tbody>\n",
              "</table>\n",
              "</div>\n",
              "      <button class=\"colab-df-convert\" onclick=\"convertToInteractive('df-b67ecb78-5e13-453d-96fe-d7f6110045b4')\"\n",
              "              title=\"Convert this dataframe to an interactive table.\"\n",
              "              style=\"display:none;\">\n",
              "        \n",
              "  <svg xmlns=\"http://www.w3.org/2000/svg\" height=\"24px\"viewBox=\"0 0 24 24\"\n",
              "       width=\"24px\">\n",
              "    <path d=\"M0 0h24v24H0V0z\" fill=\"none\"/>\n",
              "    <path d=\"M18.56 5.44l.94 2.06.94-2.06 2.06-.94-2.06-.94-.94-2.06-.94 2.06-2.06.94zm-11 1L8.5 8.5l.94-2.06 2.06-.94-2.06-.94L8.5 2.5l-.94 2.06-2.06.94zm10 10l.94 2.06.94-2.06 2.06-.94-2.06-.94-.94-2.06-.94 2.06-2.06.94z\"/><path d=\"M17.41 7.96l-1.37-1.37c-.4-.4-.92-.59-1.43-.59-.52 0-1.04.2-1.43.59L10.3 9.45l-7.72 7.72c-.78.78-.78 2.05 0 2.83L4 21.41c.39.39.9.59 1.41.59.51 0 1.02-.2 1.41-.59l7.78-7.78 2.81-2.81c.8-.78.8-2.07 0-2.86zM5.41 20L4 18.59l7.72-7.72 1.47 1.35L5.41 20z\"/>\n",
              "  </svg>\n",
              "      </button>\n",
              "      \n",
              "  <style>\n",
              "    .colab-df-container {\n",
              "      display:flex;\n",
              "      flex-wrap:wrap;\n",
              "      gap: 12px;\n",
              "    }\n",
              "\n",
              "    .colab-df-convert {\n",
              "      background-color: #E8F0FE;\n",
              "      border: none;\n",
              "      border-radius: 50%;\n",
              "      cursor: pointer;\n",
              "      display: none;\n",
              "      fill: #1967D2;\n",
              "      height: 32px;\n",
              "      padding: 0 0 0 0;\n",
              "      width: 32px;\n",
              "    }\n",
              "\n",
              "    .colab-df-convert:hover {\n",
              "      background-color: #E2EBFA;\n",
              "      box-shadow: 0px 1px 2px rgba(60, 64, 67, 0.3), 0px 1px 3px 1px rgba(60, 64, 67, 0.15);\n",
              "      fill: #174EA6;\n",
              "    }\n",
              "\n",
              "    [theme=dark] .colab-df-convert {\n",
              "      background-color: #3B4455;\n",
              "      fill: #D2E3FC;\n",
              "    }\n",
              "\n",
              "    [theme=dark] .colab-df-convert:hover {\n",
              "      background-color: #434B5C;\n",
              "      box-shadow: 0px 1px 3px 1px rgba(0, 0, 0, 0.15);\n",
              "      filter: drop-shadow(0px 1px 2px rgba(0, 0, 0, 0.3));\n",
              "      fill: #FFFFFF;\n",
              "    }\n",
              "  </style>\n",
              "\n",
              "      <script>\n",
              "        const buttonEl =\n",
              "          document.querySelector('#df-b67ecb78-5e13-453d-96fe-d7f6110045b4 button.colab-df-convert');\n",
              "        buttonEl.style.display =\n",
              "          google.colab.kernel.accessAllowed ? 'block' : 'none';\n",
              "\n",
              "        async function convertToInteractive(key) {\n",
              "          const element = document.querySelector('#df-b67ecb78-5e13-453d-96fe-d7f6110045b4');\n",
              "          const dataTable =\n",
              "            await google.colab.kernel.invokeFunction('convertToInteractive',\n",
              "                                                     [key], {});\n",
              "          if (!dataTable) return;\n",
              "\n",
              "          const docLinkHtml = 'Like what you see? Visit the ' +\n",
              "            '<a target=\"_blank\" href=https://colab.research.google.com/notebooks/data_table.ipynb>data table notebook</a>'\n",
              "            + ' to learn more about interactive tables.';\n",
              "          element.innerHTML = '';\n",
              "          dataTable['output_type'] = 'display_data';\n",
              "          await google.colab.output.renderOutput(dataTable, element);\n",
              "          const docLink = document.createElement('div');\n",
              "          docLink.innerHTML = docLinkHtml;\n",
              "          element.appendChild(docLink);\n",
              "        }\n",
              "      </script>\n",
              "    </div>\n",
              "  </div>\n",
              "  "
            ]
          },
          "metadata": {},
          "execution_count": 83
        }
      ]
    },
    {
      "cell_type": "code",
      "source": [
        "scaled_data_imputed_X.isnull().sum()"
      ],
      "metadata": {
        "colab": {
          "base_uri": "https://localhost:8080/"
        },
        "id": "6dO5_-xMbIEr",
        "outputId": "d6d40665-0bbd-44f4-d20d-0ea8d7ec86c9"
      },
      "execution_count": 88,
      "outputs": [
        {
          "output_type": "execute_result",
          "data": {
            "text/plain": [
              "0    0\n",
              "1    0\n",
              "2    0\n",
              "3    0\n",
              "4    0\n",
              "5    0\n",
              "6    0\n",
              "7    0\n",
              "dtype: int64"
            ]
          },
          "metadata": {},
          "execution_count": 88
        }
      ]
    },
    {
      "cell_type": "code",
      "source": [
        "data_Y.isnull().sum()"
      ],
      "metadata": {
        "colab": {
          "base_uri": "https://localhost:8080/"
        },
        "id": "bc3ObOB0atGs",
        "outputId": "0580b126-8160-4d1f-9438-770b17ec929d"
      },
      "execution_count": 86,
      "outputs": [
        {
          "output_type": "execute_result",
          "data": {
            "text/plain": [
              "Outcome    0\n",
              "dtype: int64"
            ]
          },
          "metadata": {},
          "execution_count": 86
        }
      ]
    },
    {
      "cell_type": "markdown",
      "source": [
        "## Splitting the data into training and test set using Twinning technique\n",
        "Twinning technique partitions datasets into statistically similar disjoint sets, termed as twins."
      ],
      "metadata": {
        "id": "thxGSMH5paYe"
      }
    },
    {
      "cell_type": "markdown",
      "source": [
        "Let's install the twinning package"
      ],
      "metadata": {
        "id": "8E6kCKPkqCu6"
      }
    },
    {
      "cell_type": "code",
      "source": [
        "pip install git+https://github.com/avkl/twinning.git"
      ],
      "metadata": {
        "id": "djcOxTiYpZe4"
      },
      "execution_count": null,
      "outputs": []
    },
    {
      "cell_type": "code",
      "source": [
        "from twinning import twin"
      ],
      "metadata": {
        "id": "UXIfgjBjqsQo"
      },
      "execution_count": 14,
      "outputs": []
    },
    {
      "cell_type": "markdown",
      "source": [
        "The following code generates an 80-20 partition of the imputed dataset `data_imputed`. twin() accepts a numpy ndarray as the dataset, and an integer parameter r representing the inverse of the partitioning ratio, i.e., for an 80-20 split, r = 1 / 0.2 = 5. The function returns indices of the smaller twin."
      ],
      "metadata": {
        "id": "IPZJVNHDqrqp"
      }
    },
    {
      "cell_type": "code",
      "source": [
        "twin_idx = twin(scaled_data_impputed_X.to_numpy(), r=5)"
      ],
      "metadata": {
        "id": "eJ0xgTzmt20z"
      },
      "execution_count": 89,
      "outputs": []
    },
    {
      "cell_type": "code",
      "source": [
        "twin_idx"
      ],
      "metadata": {
        "colab": {
          "base_uri": "https://localhost:8080/"
        },
        "id": "shagKsOOuxXo",
        "outputId": "5e0c08c1-e03f-4f54-fcfa-00982c8f4a84"
      },
      "execution_count": 90,
      "outputs": [
        {
          "output_type": "execute_result",
          "data": {
            "text/plain": [
              "array([751, 447, 150, 435,  16,  20, 179, 523, 693, 349,  29, 625, 504,\n",
              "        77, 217, 533, 737, 583, 719, 406, 765, 581, 601, 463, 257, 632,\n",
              "       137, 210,   1, 196, 729, 208, 233, 135, 181, 441, 432, 224, 202,\n",
              "       565, 741,  80, 609, 430, 407, 450, 288, 494, 368, 500, 297,  66,\n",
              "       380, 326, 414, 356, 216, 127, 318, 402, 116, 568, 419, 122, 700,\n",
              "       144, 364,  48, 522, 281, 143, 194, 717, 582, 355, 209, 195, 335,\n",
              "       452, 467, 365, 733, 567, 569, 566, 112, 290, 352, 369, 506, 427,\n",
              "       399, 415, 412, 308, 434, 265, 439, 740, 744,  12, 743, 560, 327,\n",
              "       404,  11, 648, 306, 495,   0,  31,  94, 325, 130, 393, 527, 320,\n",
              "       392, 220, 111, 236, 298, 559, 680, 508, 331, 438,  42, 734, 537,\n",
              "       243,  46, 213, 173, 699, 575, 689, 379, 303, 558, 363, 662, 212,\n",
              "        93,   8, 221,  58, 228,   2, 464, 251, 459, 177, 621],\n",
              "      dtype=uint64)"
            ]
          },
          "metadata": {},
          "execution_count": 90
        }
      ]
    },
    {
      "cell_type": "markdown",
      "source": [
        "Splitting the data into train and test set"
      ],
      "metadata": {
        "id": "2a1Ocb3C8llV"
      }
    },
    {
      "cell_type": "code",
      "source": [
        "scaled_data_imputed_X_train=scaled_data_imputed_X.drop(scaled_data_imputed_X.index[[751, 447, 150, 435,  16,  20, 179, 523, 693, 349,  29, 625, 504,\n",
        "        77, 217, 533, 737, 583, 719, 406, 765, 581, 601, 463, 257, 632,\n",
        "       137, 210,   1, 196, 729, 208, 233, 135, 181, 441, 432, 224, 202,\n",
        "       565, 741,  80, 609, 430, 407, 450, 288, 494, 368, 500, 297,  66,\n",
        "       380, 326, 414, 356, 216, 127, 318, 402, 116, 568, 419, 122, 700,\n",
        "       144, 364,  48, 522, 281, 143, 194, 717, 582, 355, 209, 195, 335,\n",
        "       452, 467, 365, 733, 567, 569, 566, 112, 290, 352, 369, 506, 427,\n",
        "       399, 415, 412, 308, 434, 265, 439, 740, 744,  12, 743, 560, 327,\n",
        "       404,  11, 648, 306, 495,   0,  31,  94, 325, 130, 393, 527, 320,\n",
        "       392, 220, 111, 236, 298, 559, 680, 508, 331, 438,  42, 734, 537,\n",
        "       243,  46, 213, 173, 699, 575, 689, 379, 303, 558, 363, 662, 212,\n",
        "        93,   8, 221,  58, 228,   2, 464, 251, 459, 177, 621]])\n",
        "data_Y_train = data_Y.drop(data_Y.index[[751, 447, 150, 435,  16,  20, 179, 523, 693, 349,  29, 625, 504,\n",
        "        77, 217, 533, 737, 583, 719, 406, 765, 581, 601, 463, 257, 632,\n",
        "       137, 210,   1, 196, 729, 208, 233, 135, 181, 441, 432, 224, 202,\n",
        "       565, 741,  80, 609, 430, 407, 450, 288, 494, 368, 500, 297,  66,\n",
        "       380, 326, 414, 356, 216, 127, 318, 402, 116, 568, 419, 122, 700,\n",
        "       144, 364,  48, 522, 281, 143, 194, 717, 582, 355, 209, 195, 335,\n",
        "       452, 467, 365, 733, 567, 569, 566, 112, 290, 352, 369, 506, 427,\n",
        "       399, 415, 412, 308, 434, 265, 439, 740, 744,  12, 743, 560, 327,\n",
        "       404,  11, 648, 306, 495,   0,  31,  94, 325, 130, 393, 527, 320,\n",
        "       392, 220, 111, 236, 298, 559, 680, 508, 331, 438,  42, 734, 537,\n",
        "       243,  46, 213, 173, 699, 575, 689, 379, 303, 558, 363, 662, 212,\n",
        "        93,   8, 221,  58, 228,   2, 464, 251, 459, 177, 621]])"
      ],
      "metadata": {
        "id": "IWkfRG5z8yjx"
      },
      "execution_count": 93,
      "outputs": []
    },
    {
      "cell_type": "code",
      "source": [
        "X_test = scaled_data_imputed_X.loc[[751, 447, 150, 435,  16,  20, 179, 523, 693, 349,  29, 625, 504,\n",
        "        77, 217, 533, 737, 583, 719, 406, 765, 581, 601, 463, 257, 632,\n",
        "       137, 210,   1, 196, 729, 208, 233, 135, 181, 441, 432, 224, 202,\n",
        "       565, 741,  80, 609, 430, 407, 450, 288, 494, 368, 500, 297,  66,\n",
        "       380, 326, 414, 356, 216, 127, 318, 402, 116, 568, 419, 122, 700,\n",
        "       144, 364,  48, 522, 281, 143, 194, 717, 582, 355, 209, 195, 335,\n",
        "       452, 467, 365, 733, 567, 569, 566, 112, 290, 352, 369, 506, 427,\n",
        "       399, 415, 412, 308, 434, 265, 439, 740, 744,  12, 743, 560, 327,\n",
        "       404,  11, 648, 306, 495,   0,  31,  94, 325, 130, 393, 527, 320,\n",
        "       392, 220, 111, 236, 298, 559, 680, 508, 331, 438,  42, 734, 537,\n",
        "       243,  46, 213, 173, 699, 575, 689, 379, 303, 558, 363, 662, 212,\n",
        "        93,   8, 221,  58, 228,   2, 464, 251, 459, 177, 621]].values\n",
        "Y_test = data_Y.loc[[751, 447, 150, 435,  16,  20, 179, 523, 693, 349,  29, 625, 504,\n",
        "        77, 217, 533, 737, 583, 719, 406, 765, 581, 601, 463, 257, 632,\n",
        "       137, 210,   1, 196, 729, 208, 233, 135, 181, 441, 432, 224, 202,\n",
        "       565, 741,  80, 609, 430, 407, 450, 288, 494, 368, 500, 297,  66,\n",
        "       380, 326, 414, 356, 216, 127, 318, 402, 116, 568, 419, 122, 700,\n",
        "       144, 364,  48, 522, 281, 143, 194, 717, 582, 355, 209, 195, 335,\n",
        "       452, 467, 365, 733, 567, 569, 566, 112, 290, 352, 369, 506, 427,\n",
        "       399, 415, 412, 308, 434, 265, 439, 740, 744,  12, 743, 560, 327,\n",
        "       404,  11, 648, 306, 495,   0,  31,  94, 325, 130, 393, 527, 320,\n",
        "       392, 220, 111, 236, 298, 559, 680, 508, 331, 438,  42, 734, 537,\n",
        "       243,  46, 213, 173, 699, 575, 689, 379, 303, 558, 363, 662, 212,\n",
        "        93,   8, 221,  58, 228,   2, 464, 251, 459, 177, 621]].values\n"
      ],
      "metadata": {
        "id": "i9X4ku9lv1Xq"
      },
      "execution_count": 103,
      "outputs": []
    },
    {
      "cell_type": "code",
      "source": [
        "scaled_data_imputed_X_train.shape"
      ],
      "metadata": {
        "colab": {
          "base_uri": "https://localhost:8080/"
        },
        "id": "1UTps4huh9qV",
        "outputId": "bda5f3dd-2625-4d50-fdaa-eef988eda1e7"
      },
      "execution_count": 104,
      "outputs": [
        {
          "output_type": "execute_result",
          "data": {
            "text/plain": [
              "(614, 8)"
            ]
          },
          "metadata": {},
          "execution_count": 104
        }
      ]
    },
    {
      "cell_type": "code",
      "source": [
        "data_Y_train.shape"
      ],
      "metadata": {
        "colab": {
          "base_uri": "https://localhost:8080/"
        },
        "id": "_k5lLjn6iHLy",
        "outputId": "26bc174d-9724-477b-eab5-7a4742de3a93"
      },
      "execution_count": 105,
      "outputs": [
        {
          "output_type": "execute_result",
          "data": {
            "text/plain": [
              "(614, 1)"
            ]
          },
          "metadata": {},
          "execution_count": 105
        }
      ]
    },
    {
      "cell_type": "markdown",
      "source": [
        "## Fitting a model using Linear Discriminant Analysis"
      ],
      "metadata": {
        "id": "iHS0LnasiBhx"
      }
    },
    {
      "cell_type": "code",
      "source": [
        "#Fit the LDA model\n",
        "model = LinearDiscriminantAnalysis()\n",
        "model.fit(scaled_data_imputed_X_train, data_Y_train)\n",
        "model.score(scaled_data_imputed_X_train, data_Y_train)"
      ],
      "metadata": {
        "colab": {
          "base_uri": "https://localhost:8080/"
        },
        "id": "xgx3sthFEJWF",
        "outputId": "741adf92-670f-4f37-96aa-438fac61ba61"
      },
      "execution_count": 111,
      "outputs": [
        {
          "output_type": "stream",
          "name": "stderr",
          "text": [
            "/usr/local/lib/python3.10/dist-packages/sklearn/utils/validation.py:1143: DataConversionWarning: A column-vector y was passed when a 1d array was expected. Please change the shape of y to (n_samples, ), for example using ravel().\n",
            "  y = column_or_1d(y, warn=True)\n"
          ]
        },
        {
          "output_type": "execute_result",
          "data": {
            "text/plain": [
              "0.7703583061889251"
            ]
          },
          "metadata": {},
          "execution_count": 111
        }
      ]
    },
    {
      "cell_type": "markdown",
      "source": [
        "We can see that the model performed an accuracy of 77.03%.\n",
        "\n",
        "---\n",
        "\n"
      ],
      "metadata": {
        "id": "vv7muQA_FxQ0"
      }
    },
    {
      "cell_type": "markdown",
      "source": [
        "## Using the model to predict diabetes using test dataset"
      ],
      "metadata": {
        "id": "qV82FhlFNrtM"
      }
    },
    {
      "cell_type": "markdown",
      "source": [
        "We will now use this model to predict using .predict function"
      ],
      "metadata": {
        "id": "zeoPeIwrGTG1"
      }
    },
    {
      "cell_type": "code",
      "source": [
        "Y_pred = model.predict(X_test)"
      ],
      "metadata": {
        "id": "MBTfx07ZGAVa"
      },
      "execution_count": 107,
      "outputs": []
    },
    {
      "cell_type": "markdown",
      "source": [
        "## Model evaluation and accuracy"
      ],
      "metadata": {
        "id": "gNacmR4GGk_h"
      }
    },
    {
      "cell_type": "markdown",
      "source": [
        "Since our dataset is imbalanced, we use F1 score as our performance metric"
      ],
      "metadata": {
        "id": "UqRRBSW5_8Gx"
      }
    },
    {
      "cell_type": "markdown",
      "source": [
        "The F1 score can be interpreted as a harmonic mean of the precision and recall, where an F1 score reaches its best value at 1 and worst score at 0\n",
        "\n"
      ],
      "metadata": {
        "id": "DaDThkic_f3j"
      }
    },
    {
      "cell_type": "code",
      "source": [
        "confusion_matrix(Y_test, Y_pred)"
      ],
      "metadata": {
        "colab": {
          "base_uri": "https://localhost:8080/"
        },
        "id": "-sKxhZ9NAIt5",
        "outputId": "cdec9ab3-28ab-48dc-d7b5-f859b3e9ee91"
      },
      "execution_count": 108,
      "outputs": [
        {
          "output_type": "execute_result",
          "data": {
            "text/plain": [
              "array([[85, 16],\n",
              "       [21, 32]])"
            ]
          },
          "metadata": {},
          "execution_count": 108
        }
      ]
    },
    {
      "cell_type": "code",
      "source": [
        "print(classification_report(Y_test, Y_pred))"
      ],
      "metadata": {
        "colab": {
          "base_uri": "https://localhost:8080/"
        },
        "id": "Iurtfb2EGvU8",
        "outputId": "27c03c5d-d87e-4c12-a9d4-3e4520d92d3f"
      },
      "execution_count": 109,
      "outputs": [
        {
          "output_type": "stream",
          "name": "stdout",
          "text": [
            "              precision    recall  f1-score   support\n",
            "\n",
            "           0       0.80      0.84      0.82       101\n",
            "           1       0.67      0.60      0.63        53\n",
            "\n",
            "    accuracy                           0.76       154\n",
            "   macro avg       0.73      0.72      0.73       154\n",
            "weighted avg       0.76      0.76      0.76       154\n",
            "\n"
          ]
        }
      ]
    },
    {
      "cell_type": "markdown",
      "source": [
        "Computing the F1 score"
      ],
      "metadata": {
        "id": "C5sKHSKD8mRR"
      }
    },
    {
      "cell_type": "markdown",
      "source": [
        " We use  `average = 'weighted'`.This accounts for label imbalance"
      ],
      "metadata": {
        "id": "4wy-8SQUAyNH"
      }
    },
    {
      "cell_type": "code",
      "source": [
        " f1_score(Y_test, Y_pred, average='weighted')"
      ],
      "metadata": {
        "colab": {
          "base_uri": "https://localhost:8080/"
        },
        "id": "MrtfkuxC8mjY",
        "outputId": "3b0f4d56-3141-448c-9c79-37aab8889920"
      },
      "execution_count": 110,
      "outputs": [
        {
          "output_type": "execute_result",
          "data": {
            "text/plain": [
              "0.7566949241508001"
            ]
          },
          "metadata": {},
          "execution_count": 110
        }
      ]
    },
    {
      "cell_type": "markdown",
      "source": [
        "Our overall accuracy is 75.6%"
      ],
      "metadata": {
        "id": "duNSWLMIHzal"
      }
    }
  ],
  "metadata": {
    "kernelspec": {
      "display_name": "Python 3",
      "language": "python",
      "name": "python3"
    },
    "language_info": {
      "codemirror_mode": {
        "name": "ipython",
        "version": 3
      },
      "file_extension": ".py",
      "mimetype": "text/x-python",
      "name": "python",
      "nbconvert_exporter": "python",
      "pygments_lexer": "ipython3",
      "version": "3.7.6"
    },
    "papermill": {
      "duration": 5.808168,
      "end_time": "2020-11-20T10:04:29.753004",
      "environment_variables": {},
      "exception": null,
      "input_path": "__notebook__.ipynb",
      "output_path": "__notebook__.ipynb",
      "parameters": {},
      "start_time": "2020-11-20T10:04:23.944836",
      "version": "2.1.0"
    },
    "colab": {
      "provenance": []
    }
  },
  "nbformat": 4,
  "nbformat_minor": 0
}